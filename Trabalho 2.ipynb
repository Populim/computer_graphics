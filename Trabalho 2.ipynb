{
 "cells": [
  {
   "cell_type": "markdown",
   "metadata": {},
   "source": [
    "# TRABALHO 2 - Cenário 3D\n",
    "\n"
   ]
  },
  {
   "cell_type": "markdown",
   "metadata": {},
   "source": [
    " \n",
    "## Matheus Steigenberg Populim - 1073470\n",
    "## Vinicius Finke Raiter José - 9791052"
   ]
  },
  {
   "cell_type": "markdown",
   "metadata": {},
   "source": [
    "Vídeo: https://youtu.be/h1L8l9aoASs<br>\n",
    "\n",
    "Modelos utilizados: https://drive.google.com/file/d/1DRev6NTqxv_lBBEaODuzpuP9oZeFHzja/view?usp=sharing <br>"
   ]
  },
  {
   "cell_type": "markdown",
   "metadata": {},
   "source": [
    "### Primeiro, vamos importar as bibliotecas necessárias.\n",
    "Verifique no código anterior um script para instalar as dependências necessárias (OpenGL e GLFW) antes de prosseguir."
   ]
  },
  {
   "cell_type": "code",
   "execution_count": 1,
   "metadata": {
    "ExecuteTime": {
     "end_time": "2020-07-11T23:54:35.934429Z",
     "start_time": "2020-07-11T23:54:35.767251Z"
    }
   },
   "outputs": [],
   "source": [
    "import glfw\n",
    "from OpenGL.GL import *\n",
    "import OpenGL.GL.shaders\n",
    "import numpy as np\n",
    "import glm\n",
    "import math\n",
    "from PIL import Image"
   ]
  },
  {
   "cell_type": "markdown",
   "metadata": {},
   "source": [
    "### Inicializando janela"
   ]
  },
  {
   "cell_type": "markdown",
   "metadata": {},
   "source": [
    "# altura = 900 largura = 1600 <br>\n",
    "## mude se não for o valor do seu monitor"
   ]
  },
  {
   "cell_type": "code",
   "execution_count": 2,
   "metadata": {
    "ExecuteTime": {
     "end_time": "2020-07-11T23:54:36.212954Z",
     "start_time": "2020-07-11T23:54:35.935623Z"
    }
   },
   "outputs": [],
   "source": [
    "glfw.init()\n",
    "glfw.window_hint(glfw.VISIBLE, glfw.TRUE);\n",
    "glfw.window_hint(glfw.RESIZABLE, glfw.TRUE);\n",
    "glfw.window_hint(glfw.CENTER_CURSOR, glfw.TRUE);\n",
    "#glfw.window_hint(glfw.VISIBLE, glfw.TRUE,glfw.CENTER_CURSOR);\n",
    "largura = 1600\n",
    "altura = 900\n",
    "window = glfw.create_window(largura, altura, \"Malhas e Texturas\", glfw.get_primary_monitor(), None)\n",
    "glfw.make_context_current(window)\n",
    "\n",
    "glfw.set_input_mode(window, glfw.CURSOR, glfw.CURSOR_DISABLED);\n"
   ]
  },
  {
   "cell_type": "markdown",
   "metadata": {},
   "source": [
    "### GLSL (OpenGL Shading Language)\n",
    "\n",
    "Aqui veremos nosso primeiro código GLSL.\n",
    "\n",
    "É uma linguagem de shading de alto nível baseada na linguagem de programação C.\n",
    "\n",
    "Nós estamos escrevendo código GLSL como se \"strings\" de uma variável (mas podemos ler de arquivos texto). Esse código, depois, terá que ser compilado e linkado ao nosso programa. \n",
    "\n",
    "Iremos aprender GLSL conforme a necessidade do curso. Usarmos uma versão do GLSL mais antiga, compatível com muitos dispositivos."
   ]
  },
  {
   "cell_type": "markdown",
   "metadata": {},
   "source": [
    "### GLSL para Vertex Shader\n",
    "\n",
    "No Pipeline programável, podemos interagir com Vertex Shaders.\n",
    "\n",
    "No código abaixo, estamos fazendo o seguinte:\n",
    "\n",
    "* Definindo uma variável chamada position do tipo vec3.\n",
    "* Definindo matrizes Model, View e Projection que acumulam transformações geométricas 3D e permitem navegação no cenário.\n",
    "* void main() é o ponto de entrada do nosso programa (função principal)\n",
    "* gl_Position é uma variável especial do GLSL. Variáveis que começam com 'gl_' são desse tipo. Nesse caso, determina a posição de um vértice. Observe que todo vértice tem 4 coordenadas, por isso nós combinamos nossa variável vec2 com uma variável vec4. Além disso, nós modificamos nosso vetor com base nas transformações Model, View e Projection."
   ]
  },
  {
   "cell_type": "code",
   "execution_count": 3,
   "metadata": {
    "ExecuteTime": {
     "end_time": "2020-07-11T23:54:36.216637Z",
     "start_time": "2020-07-11T23:54:36.214383Z"
    }
   },
   "outputs": [],
   "source": [
    "vertex_code = \"\"\"\n",
    "        attribute vec3 position;\n",
    "        attribute vec2 texture_coord;\n",
    "        attribute vec3 normals;\n",
    "        \n",
    "       \n",
    "        varying vec2 out_texture;\n",
    "        varying vec3 out_fragPos;\n",
    "        varying vec3 out_normal;\n",
    "                \n",
    "        uniform mat4 model;\n",
    "        uniform mat4 view;\n",
    "        uniform mat4 projection;        \n",
    "        \n",
    "        void main(){\n",
    "            gl_Position = projection * view * model * vec4(position,1.0);\n",
    "            out_texture = vec2(texture_coord);\n",
    "            out_fragPos = vec3(model * vec4(position, 1.0));\n",
    "            out_normal = normals;            \n",
    "        }\n",
    "        \"\"\""
   ]
  },
  {
   "cell_type": "markdown",
   "metadata": {},
   "source": [
    "### GLSL para Fragment Shader\n",
    "\n",
    "No Pipeline programável, podemos interagir com Fragment Shaders.\n",
    "\n",
    "No código abaixo, estamos fazendo o seguinte:\n",
    "\n",
    "* void main() é o ponto de entrada do nosso programa (função principal)\n",
    "* gl_FragColor é uma variável especial do GLSL. Variáveis que começam com 'gl_' são desse tipo. Nesse caso, determina a cor de um fragmento. Nesse caso é um ponto, mas poderia ser outro objeto (ponto, linha, triangulos, etc)."
   ]
  },
  {
   "cell_type": "markdown",
   "metadata": {},
   "source": [
    "### Possibilitando modificar a cor.\n",
    "\n",
    "Nos exemplos anteriores, a variável gl_FragColor estava definida de forma fixa (com cor R=0, G=0, B=0).\n",
    "\n",
    "Agora, nós vamos criar uma variável do tipo \"uniform\", de quatro posições (vec4), para receber o dado de cor do nosso programa rodando em CPU."
   ]
  },
  {
   "cell_type": "code",
   "execution_count": 4,
   "metadata": {
    "ExecuteTime": {
     "end_time": "2020-07-11T23:54:36.224891Z",
     "start_time": "2020-07-11T23:54:36.218033Z"
    }
   },
   "outputs": [],
   "source": [
    "fragment_code = \"\"\"\n",
    "\n",
    "        // parametros da iluminacao ambiente e difusa\n",
    "        uniform vec3 lightPos; // define coordenadas de posicao da luz\n",
    "        uniform float ka; // coeficiente de reflexao ambiente\n",
    "        uniform float kd; // coeficiente de reflexao difusa\n",
    "        \n",
    "        // parametros da iluminacao especular\n",
    "        uniform vec3 viewPos; // define coordenadas com a posicao da camera/observador\n",
    "        uniform float ks; // coeficiente de reflexao especular\n",
    "        uniform float ns; // expoente de reflexao especular\n",
    "        \n",
    "        // parametro com a cor da(s) fonte(s) de iluminacao\n",
    "        vec3 lightColor = vec3(1.0, 1.0, 1.0);\n",
    "\n",
    "        // parametros recebidos do vertex shader\n",
    "        varying vec2 out_texture; // recebido do vertex shader\n",
    "        varying vec3 out_normal; // recebido do vertex shader\n",
    "        varying vec3 out_fragPos; // recebido do vertex shader\n",
    "        uniform sampler2D samplerTexture;\n",
    "        \n",
    "        \n",
    "        \n",
    "        void main(){\n",
    "        \n",
    "            // calculando reflexao ambiente\n",
    "            vec3 ambient = ka * lightColor;             \n",
    "        \n",
    "            // calculando reflexao difusa\n",
    "            vec3 norm = normalize(out_normal); // normaliza vetores perpendiculares\n",
    "            vec3 lightDir = normalize(lightPos - out_fragPos); // direcao da luz\n",
    "            float diff = max(dot(norm, lightDir), 0.0); // verifica limite angular (entre 0 e 90)\n",
    "            vec3 diffuse = kd * diff * lightColor; // iluminacao difusa\n",
    "            \n",
    "            // calculando reflexao especular\n",
    "            vec3 viewDir = normalize(viewPos - out_fragPos); // direcao do observador/camera\n",
    "            vec3 reflectDir = reflect(-lightDir, norm); // direcao da reflexao\n",
    "            float spec = pow(max(dot(viewDir, reflectDir), 0.0), ns);\n",
    "            vec3 specular = ks * spec * lightColor;             \n",
    "            \n",
    "            // aplicando o modelo de iluminacao\n",
    "            vec4 texture = texture2D(samplerTexture, out_texture);\n",
    "            vec4 result = vec4((ambient + diffuse + specular),1.0) * texture; // aplica iluminacao\n",
    "            gl_FragColor = result;\n",
    "\n",
    "        }\n",
    "        \"\"\""
   ]
  },
  {
   "cell_type": "markdown",
   "metadata": {},
   "source": [
    "### Requisitando slot para a GPU para nossos programas Vertex e Fragment Shaders"
   ]
  },
  {
   "cell_type": "code",
   "execution_count": 5,
   "metadata": {
    "ExecuteTime": {
     "end_time": "2020-07-11T23:54:36.234653Z",
     "start_time": "2020-07-11T23:54:36.226398Z"
    }
   },
   "outputs": [],
   "source": [
    "# Request a program and shader slots from GPU\n",
    "program  = glCreateProgram()\n",
    "vertex   = glCreateShader(GL_VERTEX_SHADER)\n",
    "fragment = glCreateShader(GL_FRAGMENT_SHADER)"
   ]
  },
  {
   "cell_type": "markdown",
   "metadata": {},
   "source": [
    "### Associando nosso código-fonte aos slots solicitados"
   ]
  },
  {
   "cell_type": "code",
   "execution_count": 6,
   "metadata": {
    "ExecuteTime": {
     "end_time": "2020-07-11T23:54:36.243336Z",
     "start_time": "2020-07-11T23:54:36.236019Z"
    }
   },
   "outputs": [],
   "source": [
    "# Set shaders source\n",
    "glShaderSource(vertex, vertex_code)\n",
    "glShaderSource(fragment, fragment_code)"
   ]
  },
  {
   "cell_type": "markdown",
   "metadata": {},
   "source": [
    "### Compilando o Vertex Shader\n",
    "\n",
    "Se há algum erro em nosso programa Vertex Shader, nosso app para por aqui."
   ]
  },
  {
   "cell_type": "code",
   "execution_count": 7,
   "metadata": {
    "ExecuteTime": {
     "end_time": "2020-07-11T23:54:36.250328Z",
     "start_time": "2020-07-11T23:54:36.244653Z"
    }
   },
   "outputs": [],
   "source": [
    "# Compile shaders\n",
    "glCompileShader(vertex)\n",
    "if not glGetShaderiv(vertex, GL_COMPILE_STATUS):\n",
    "    error = glGetShaderInfoLog(vertex).decode()\n",
    "    print(error)\n",
    "    raise RuntimeError(\"Erro de compilacao do Vertex Shader\")"
   ]
  },
  {
   "cell_type": "markdown",
   "metadata": {},
   "source": [
    "### Compilando o Fragment Shader\n",
    "\n",
    "Se há algum erro em nosso programa Fragment Shader, nosso app para por aqui."
   ]
  },
  {
   "cell_type": "code",
   "execution_count": 8,
   "metadata": {
    "ExecuteTime": {
     "end_time": "2020-07-11T23:54:36.257837Z",
     "start_time": "2020-07-11T23:54:36.252057Z"
    }
   },
   "outputs": [],
   "source": [
    "glCompileShader(fragment)\n",
    "if not glGetShaderiv(fragment, GL_COMPILE_STATUS):\n",
    "    error = glGetShaderInfoLog(fragment).decode()\n",
    "    print(error)\n",
    "    raise RuntimeError(\"Erro de compilacao do Fragment Shader\")"
   ]
  },
  {
   "cell_type": "markdown",
   "metadata": {},
   "source": [
    "### Associando os programas compilado ao programa principal"
   ]
  },
  {
   "cell_type": "code",
   "execution_count": 9,
   "metadata": {
    "ExecuteTime": {
     "end_time": "2020-07-11T23:54:36.266929Z",
     "start_time": "2020-07-11T23:54:36.259157Z"
    }
   },
   "outputs": [],
   "source": [
    "# Attach shader objects to the program\n",
    "glAttachShader(program, vertex)\n",
    "glAttachShader(program, fragment)"
   ]
  },
  {
   "cell_type": "markdown",
   "metadata": {},
   "source": [
    "### Linkagem do programa"
   ]
  },
  {
   "cell_type": "code",
   "execution_count": 10,
   "metadata": {
    "ExecuteTime": {
     "end_time": "2020-07-11T23:54:36.275066Z",
     "start_time": "2020-07-11T23:54:36.268017Z"
    }
   },
   "outputs": [],
   "source": [
    "# Build program\n",
    "glLinkProgram(program)\n",
    "if not glGetProgramiv(program, GL_LINK_STATUS):\n",
    "    print(glGetProgramInfoLog(program))\n",
    "    raise RuntimeError('Linking error')\n",
    "    \n",
    "# Make program the default program\n",
    "glUseProgram(program)"
   ]
  },
  {
   "cell_type": "markdown",
   "metadata": {},
   "source": [
    "### Preparando dados para enviar a GPU\n",
    "\n",
    "Nesse momento, nós compilamos nossos Vertex e Program Shaders para que a GPU possa processá-los.\n",
    "\n",
    "Por outro lado, as informações de vértices geralmente estão na CPU e devem ser transmitidas para a GPU.\n"
   ]
  },
  {
   "cell_type": "markdown",
   "metadata": {},
   "source": [
    "### Carregando Modelos (vértices e texturas) a partir de Arquivos\n",
    "\n",
    "A função abaixo carrega modelos a partir de arquivos no formato WaveFront.\n",
    "\n",
    "\n",
    "Para saber mais sobre o modelo, acesse: https://en.wikipedia.org/wiki/Wavefront_.obj_file\n",
    "\n",
    "\n",
    "Nos slides e vídeo-aula da Aula 11 - Parte 1, nós descrevemos o funcionamento desse formato."
   ]
  },
  {
   "cell_type": "code",
   "execution_count": 11,
   "metadata": {
    "ExecuteTime": {
     "end_time": "2020-07-11T23:54:36.286612Z",
     "start_time": "2020-07-11T23:54:36.276055Z"
    }
   },
   "outputs": [],
   "source": [
    "def load_model_from_file(filename):\n",
    "    \"\"\"Loads a Wavefront OBJ file. \"\"\"\n",
    "    objects = {}\n",
    "    vertices = []\n",
    "    normals = []\n",
    "    texture_coords = []\n",
    "    faces = []\n",
    "\n",
    "    material = None\n",
    "\n",
    "    # abre o arquivo obj para leitura\n",
    "    for line in open(filename, \"r\"): ## para cada linha do arquivo .obj\n",
    "        if line.startswith('#'): continue ## ignora comentarios\n",
    "        values = line.split() # quebra a linha por espaço\n",
    "        if not values: continue\n",
    "\n",
    "\n",
    "        ### recuperando vertices\n",
    "        if values[0] == 'v':\n",
    "            vertices.append(values[1:4])\n",
    "\n",
    "        ### recuperando vertices\n",
    "        if values[0] == 'vn':\n",
    "            normals.append(values[1:4])\n",
    "\n",
    "        ### recuperando coordenadas de textura\n",
    "        elif values[0] == 'vt':\n",
    "            texture_coords.append(values[1:3])\n",
    "\n",
    "        ### recuperando faces \n",
    "        elif values[0] in ('usemtl', 'usemat'):\n",
    "            material = values[1]\n",
    "        elif values[0] == 'f':\n",
    "            face = []\n",
    "            face_texture = []\n",
    "            face_normals = []\n",
    "            for v in values[1:]:\n",
    "                w = v.split('/')\n",
    "                face.append(int(w[0]))\n",
    "                face_normals.append(int(w[2]))\n",
    "                if len(w) >= 2 and len(w[1]) > 0:\n",
    "                    face_texture.append(int(w[1]))\n",
    "                else:\n",
    "                    face_texture.append(0)\n",
    "\n",
    "            faces.append((face, face_texture, face_normals, material))\n",
    "\n",
    "    model = {}\n",
    "    model['vertices'] = vertices\n",
    "    model['texture'] = texture_coords\n",
    "    model['faces'] = faces\n",
    "    model['normals'] = normals\n",
    "\n",
    "    return model"
   ]
  },
  {
   "cell_type": "code",
   "execution_count": 12,
   "metadata": {
    "ExecuteTime": {
     "end_time": "2020-07-11T23:54:36.296887Z",
     "start_time": "2020-07-11T23:54:36.288575Z"
    }
   },
   "outputs": [],
   "source": [
    "glHint(GL_LINE_SMOOTH_HINT, GL_DONT_CARE)\n",
    "glEnable( GL_BLEND )\n",
    "glBlendFunc( GL_SRC_ALPHA, GL_ONE_MINUS_SRC_ALPHA )\n",
    "glEnable(GL_LINE_SMOOTH)\n",
    "glEnable(GL_TEXTURE_2D)\n",
    "qtd_texturas = 25\n",
    "textures = glGenTextures(qtd_texturas)\n",
    "def load_texture_from_file(texture_id, img_textura):\n",
    "    glBindTexture(GL_TEXTURE_2D, texture_id)\n",
    "    glTexParameteri(GL_TEXTURE_2D, GL_TEXTURE_WRAP_S, GL_REPEAT)\n",
    "    glTexParameteri(GL_TEXTURE_2D, GL_TEXTURE_WRAP_T, GL_REPEAT)\n",
    "    glTexParameteri(GL_TEXTURE_2D, GL_TEXTURE_MIN_FILTER, GL_LINEAR)\n",
    "    glTexParameteri(GL_TEXTURE_2D, GL_TEXTURE_MAG_FILTER, GL_LINEAR)\n",
    "    img = Image.open(img_textura)\n",
    "    print(img_textura,img.mode)\n",
    "    img_width = img.size[0]\n",
    "    img_height = img.size[1]\n",
    "    #image_data = img.tobytes(\"raw\", \"RGB\", 0, -1)\n",
    "    image_data = img.convert(\"RGBA\").tobytes(\"raw\", \"RGBA\",0,-1)\n",
    "\n",
    "    #image_data = np.array(list(img.getdata()), np.uint8)\n",
    "    glTexImage2D(GL_TEXTURE_2D, 0, GL_RGBA, img_width, img_height, 0, GL_RGBA, GL_UNSIGNED_BYTE, image_data)"
   ]
  },
  {
   "cell_type": "markdown",
   "metadata": {},
   "source": [
    "### A lista abaixo armazena todos os vertices carregados dos arquivos"
   ]
  },
  {
   "cell_type": "code",
   "execution_count": 13,
   "metadata": {
    "ExecuteTime": {
     "end_time": "2020-07-11T23:54:36.306045Z",
     "start_time": "2020-07-11T23:54:36.298413Z"
    }
   },
   "outputs": [],
   "source": [
    "vertices_list = []    \n",
    "normals_list = []    \n",
    "textures_coord_list = []"
   ]
  },
  {
   "cell_type": "markdown",
   "metadata": {},
   "source": [
    "### Vamos carregar cada modelo e definir funções para desenhá-los"
   ]
  },
  {
   "cell_type": "markdown",
   "metadata": {},
   "source": [
    "## Terreno"
   ]
  },
  {
   "cell_type": "code",
   "execution_count": 14,
   "metadata": {
    "ExecuteTime": {
     "end_time": "2020-07-11T23:54:36.487670Z",
     "start_time": "2020-07-11T23:54:36.307443Z"
    },
    "scrolled": true
   },
   "outputs": [
    {
     "name": "stdout",
     "output_type": "stream",
     "text": [
      "Processando modelo chao_asfalto_grama.obj. Vertice inicial: 0\n",
      "Processando modelo chao_asfalto_grama.obj. Vertice final: 156\n",
      "modelo/grass1.jpg RGB\n",
      "modelo/road.jpg RGB\n"
     ]
    }
   ],
   "source": [
    "modelo = load_model_from_file('modelo/chao_asfalto_grama.obj')\n",
    "\n",
    "### inserindo vertices do modelo no vetor de vertices\n",
    "print('Processando modelo chao_asfalto_grama.obj. Vertice inicial:',len(vertices_list))\n",
    "faces_visited = []\n",
    "for face in modelo['faces']:\n",
    "    for vertice_id in face[0]:\n",
    "        vertices_list.append( modelo['vertices'][vertice_id-1] )\n",
    "    for texture_id in face[1]:\n",
    "        textures_coord_list.append( modelo['texture'][texture_id-1] )\n",
    "    for normal_id in face[2]:\n",
    "        normals_list.append( modelo['normals'][normal_id-1] )\n",
    "print('Processando modelo chao_asfalto_grama.obj. Vertice final:',len(vertices_list))\n",
    "\n",
    "### inserindo coordenadas de textura do modelo no vetor de texturas\n",
    "\n",
    "\n",
    "### carregando textura equivalente e definindo um id (buffer): use um id por textura!\n",
    "load_texture_from_file(0,'modelo/grass1.jpg')\n",
    "load_texture_from_file(1,'modelo/road.jpg')"
   ]
  },
  {
   "cell_type": "markdown",
   "metadata": {},
   "source": [
    "## Céu"
   ]
  },
  {
   "cell_type": "code",
   "execution_count": 15,
   "metadata": {
    "ExecuteTime": {
     "end_time": "2020-07-11T23:54:36.884638Z",
     "start_time": "2020-07-11T23:54:36.489111Z"
    }
   },
   "outputs": [
    {
     "name": "stdout",
     "output_type": "stream",
     "text": [
      "Processando modelo skybox.obj. Vertice inicial: 156\n",
      "Processando modelo skybox.obj. Vertice final: 34716\n",
      "modelo/sky12.jpg RGB\n"
     ]
    }
   ],
   "source": [
    "modelo = load_model_from_file('modelo/skybox.obj')\n",
    "\n",
    "### inserindo vertices do modelo no vetor de vertices\n",
    "print('Processando modelo skybox.obj. Vertice inicial:',len(vertices_list))\n",
    "for face in modelo['faces']:\n",
    "    for vertice_id in face[0]:\n",
    "        vertices_list.append( modelo['vertices'][vertice_id-1] )\n",
    "    for texture_id in face[1]:\n",
    "        textures_coord_list.append( modelo['texture'][texture_id-1] )\n",
    "    for normal_id in face[2]:\n",
    "        normals_list.append( modelo['normals'][normal_id-1] )\n",
    "print('Processando modelo skybox.obj. Vertice final:',len(vertices_list))\n",
    "\n",
    "### inserindo coordenadas de textura do modelo no vetor de texturas\n",
    "\n",
    "\n",
    "### carregando textura equivalente e definindo um id (buffer): use um id por textura!\n",
    "load_texture_from_file(2,'modelo/sky12.jpg')\n"
   ]
  },
  {
   "cell_type": "markdown",
   "metadata": {},
   "source": [
    "## Casa"
   ]
  },
  {
   "cell_type": "code",
   "execution_count": 16,
   "metadata": {
    "ExecuteTime": {
     "end_time": "2020-07-11T23:54:37.415840Z",
     "start_time": "2020-07-11T23:54:36.885760Z"
    },
    "scrolled": true
   },
   "outputs": [
    {
     "name": "stdout",
     "output_type": "stream",
     "text": [
      "Processando modelo casa.obj. Vertice inicial: 34716\n",
      "Processando modelo casa.obj. Vertice final: 47511\n",
      "modelo/textura_casa.png RGB\n",
      "modelo/chaomadeira.jpg RGB\n"
     ]
    }
   ],
   "source": [
    "modelo = load_model_from_file('modelo/casa.obj')\n",
    "\n",
    "### inserindo vertices do modelo no vetor de vertices\n",
    "print('Processando modelo casa.obj. Vertice inicial:',len(vertices_list))\n",
    "faces_visited = []\n",
    "for face in modelo['faces']:\n",
    "    for vertice_id in face[0]:\n",
    "        vertices_list.append( modelo['vertices'][vertice_id-1] )\n",
    "    for texture_id in face[1]:\n",
    "        textures_coord_list.append( modelo['texture'][texture_id-1] )\n",
    "    for normal_id in face[2]:\n",
    "        normals_list.append( modelo['normals'][normal_id-1] )\n",
    "print('Processando modelo casa.obj. Vertice final:',len(vertices_list))\n",
    "\n",
    "### inserindo coordenadas de textura do modelo no vetor de texturas\n",
    "\n",
    "\n",
    "### carregando textura equivalente e definindo um id (buffer): use um id por textura!\n",
    "load_texture_from_file(3,'modelo/textura_casa.png')\n",
    "load_texture_from_file(4,'modelo/chaomadeira.jpg')\n"
   ]
  },
  {
   "cell_type": "markdown",
   "metadata": {},
   "source": [
    "## Sofá"
   ]
  },
  {
   "cell_type": "code",
   "execution_count": 17,
   "metadata": {
    "ExecuteTime": {
     "end_time": "2020-07-11T23:54:37.584741Z",
     "start_time": "2020-07-11T23:54:37.416969Z"
    }
   },
   "outputs": [
    {
     "name": "stdout",
     "output_type": "stream",
     "text": [
      "Processando modelo sofa2.obj. Vertice inicial: 47511\n",
      "Processando modelo sofa2.obj. Vertice final: 97443\n",
      "modelo/sofacor1.png RGBA\n"
     ]
    }
   ],
   "source": [
    "modelo = load_model_from_file('modelo/sofa2.obj')\n",
    "\n",
    "### inserindo vertices do modelo no vetor de vertices\n",
    "print('Processando modelo sofa2.obj. Vertice inicial:',len(vertices_list))\n",
    "for face in modelo['faces']:\n",
    "    for vertice_id in face[0]:\n",
    "        vertices_list.append( modelo['vertices'][vertice_id-1] )\n",
    "    for texture_id in face[1]:\n",
    "        textures_coord_list.append( modelo['texture'][texture_id-1] )\n",
    "    for normal_id in face[2]:\n",
    "        normals_list.append( modelo['normals'][normal_id-1] )\n",
    "print('Processando modelo sofa2.obj. Vertice final:',len(vertices_list))\n",
    "\n",
    "### inserindo coordenadas de textura do modelo no vetor de texturas\n",
    "\n",
    "\n",
    "### carregando textura equivalente e definindo um id (buffer): use um id por textura!\n",
    "load_texture_from_file(5,'modelo/sofacor1.png')"
   ]
  },
  {
   "cell_type": "markdown",
   "metadata": {},
   "source": [
    "## Escrivaninha"
   ]
  },
  {
   "cell_type": "code",
   "execution_count": 18,
   "metadata": {
    "ExecuteTime": {
     "end_time": "2020-07-11T23:54:37.685989Z",
     "start_time": "2020-07-11T23:54:37.586050Z"
    },
    "scrolled": true
   },
   "outputs": [
    {
     "name": "stdout",
     "output_type": "stream",
     "text": [
      "Processando modelo escrivaninha.obj. Vertice inicial: 97443\n",
      "Processando modelo escrivaninha.obj. Vertice final: 98499\n",
      "modelo/madeira1.jpg RGB\n",
      "modelo/handle.jpg RGB\n"
     ]
    }
   ],
   "source": [
    "modelo = load_model_from_file('modelo/escrivaninha.obj')\n",
    "\n",
    "### inserindo vertices do modelo no vetor de vertices\n",
    "print('Processando modelo escrivaninha.obj. Vertice inicial:',len(vertices_list))\n",
    "faces_visited = []\n",
    "for face in modelo['faces']:\n",
    "    for vertice_id in face[0]:\n",
    "        vertices_list.append( modelo['vertices'][vertice_id-1] )\n",
    "    for texture_id in face[1]:\n",
    "        textures_coord_list.append( modelo['texture'][texture_id-1] )\n",
    "    for normal_id in face[2]:\n",
    "        normals_list.append( modelo['normals'][normal_id-1] )\n",
    "print('Processando modelo escrivaninha.obj. Vertice final:',len(vertices_list))\n",
    "\n",
    "### inserindo coordenadas de textura do modelo no vetor de texturas\n",
    "\n",
    "\n",
    "### carregando textura equivalente e definindo um id (buffer): use um id por textura!\n",
    "load_texture_from_file(6,'modelo/madeira1.jpg')\n",
    "load_texture_from_file(7,'modelo/handle.jpg')\n"
   ]
  },
  {
   "cell_type": "markdown",
   "metadata": {},
   "source": [
    "## Televisão"
   ]
  },
  {
   "cell_type": "code",
   "execution_count": 19,
   "metadata": {
    "ExecuteTime": {
     "end_time": "2020-07-11T23:54:37.770760Z",
     "start_time": "2020-07-11T23:54:37.687159Z"
    }
   },
   "outputs": [
    {
     "name": "stdout",
     "output_type": "stream",
     "text": [
      "Processando modelo escrivaninha.obj. Vertice inicial: 98499\n",
      "Processando modelo televisao.obj. Vertice final: 104103\n",
      "modelo/black.png RGB\n",
      "modelo/william.jpg RGB\n"
     ]
    }
   ],
   "source": [
    "modelo = load_model_from_file('modelo/televisao.obj')\n",
    "\n",
    "### inserindo vertices do modelo no vetor de vertices\n",
    "print('Processando modelo escrivaninha.obj. Vertice inicial:',len(vertices_list))\n",
    "faces_visited = []\n",
    "for face in modelo['faces']:\n",
    "    for vertice_id in face[0]:\n",
    "        vertices_list.append( modelo['vertices'][vertice_id-1] )\n",
    "    for texture_id in face[1]:\n",
    "        textures_coord_list.append( modelo['texture'][texture_id-1] )\n",
    "    for normal_id in face[2]:\n",
    "        normals_list.append( modelo['normals'][normal_id-1] )\n",
    "print('Processando modelo televisao.obj. Vertice final:',len(vertices_list))\n",
    "\n",
    "### inserindo coordenadas de textura do modelo no vetor de texturas\n",
    "### carregando textura equivalente e definindo um id (buffer): use um id por textura!\n",
    "load_texture_from_file(8,'modelo/black.png')\n",
    "load_texture_from_file(9,'modelo/william.jpg')"
   ]
  },
  {
   "cell_type": "markdown",
   "metadata": {},
   "source": [
    "## Carro"
   ]
  },
  {
   "cell_type": "code",
   "execution_count": 20,
   "metadata": {
    "ExecuteTime": {
     "end_time": "2020-07-11T23:54:37.814880Z",
     "start_time": "2020-07-11T23:54:37.771994Z"
    }
   },
   "outputs": [
    {
     "name": "stdout",
     "output_type": "stream",
     "text": [
      "Processando modelo carro1.obj. Vertice inicial: 104103\n",
      "Processando modelo carro1.obj. Vertice final: 115497\n",
      "modelo/car1.png RGB\n"
     ]
    }
   ],
   "source": [
    "modelo = load_model_from_file('modelo/carro1.obj')\n",
    "\n",
    "### inserindo vertices do modelo no vetor de vertices\n",
    "print('Processando modelo carro1.obj. Vertice inicial:',len(vertices_list))\n",
    "for face in modelo['faces']:\n",
    "    for vertice_id in face[0]:\n",
    "        vertices_list.append( modelo['vertices'][vertice_id-1] )\n",
    "    for texture_id in face[1]:\n",
    "        textures_coord_list.append( modelo['texture'][texture_id-1] )\n",
    "    for normal_id in face[2]:\n",
    "        normals_list.append( modelo['normals'][normal_id-1] )\n",
    "print('Processando modelo carro1.obj. Vertice final:',len(vertices_list))\n",
    "\n",
    "### inserindo coordenadas de textura do modelo no vetor de texturas\n",
    "\n",
    "\n",
    "### carregando textura equivalente e definindo um id (buffer): use um id por textura!\n",
    "load_texture_from_file(10,'modelo/car1.png')\n"
   ]
  },
  {
   "cell_type": "markdown",
   "metadata": {},
   "source": [
    "## Carro de Polícia"
   ]
  },
  {
   "cell_type": "code",
   "execution_count": 21,
   "metadata": {
    "ExecuteTime": {
     "end_time": "2020-07-11T23:54:37.862199Z",
     "start_time": "2020-07-11T23:54:37.816220Z"
    }
   },
   "outputs": [
    {
     "name": "stdout",
     "output_type": "stream",
     "text": [
      "Processando modelo carro2.obj. Vertice inicial: 115497\n",
      "Processando modelo carro2.obj. Vertice final: 131229\n",
      "modelo/car2.png RGB\n"
     ]
    }
   ],
   "source": [
    "modelo = load_model_from_file('modelo/carro2.obj')\n",
    "\n",
    "### inserindo vertices do modelo no vetor de vertices\n",
    "print('Processando modelo carro2.obj. Vertice inicial:',len(vertices_list))\n",
    "for face in modelo['faces']:\n",
    "    for vertice_id in face[0]:\n",
    "        vertices_list.append( modelo['vertices'][vertice_id-1] )\n",
    "    for texture_id in face[1]:\n",
    "        textures_coord_list.append( modelo['texture'][texture_id-1] )\n",
    "    for normal_id in face[2]:\n",
    "        normals_list.append( modelo['normals'][normal_id-1] )\n",
    "print('Processando modelo carro2.obj. Vertice final:',len(vertices_list))\n",
    "\n",
    "### inserindo coordenadas de textura do modelo no vetor de texturas\n",
    "\n",
    "\n",
    "### carregando textura equivalente e definindo um id (buffer): use um id por textura!\n",
    "load_texture_from_file(11,'modelo/car2.png')\n"
   ]
  },
  {
   "cell_type": "markdown",
   "metadata": {},
   "source": [
    "## Árvore"
   ]
  },
  {
   "cell_type": "code",
   "execution_count": 22,
   "metadata": {
    "ExecuteTime": {
     "end_time": "2020-07-11T23:54:38.110496Z",
     "start_time": "2020-07-11T23:54:37.863436Z"
    }
   },
   "outputs": [
    {
     "name": "stdout",
     "output_type": "stream",
     "text": [
      "Processando modelo arvore.obj. Vertice inicial: 131229\n",
      "Processando modelo arvore.obj. Vertice final: 172401\n",
      "modelo/bark_0021.jpg RGB\n",
      "modelo/DB2X2_L01.png RGBA\n"
     ]
    }
   ],
   "source": [
    "modelo = load_model_from_file('modelo/arvore.obj')\n",
    "\n",
    "### inserindo vertices do modelo no vetor de vertices\n",
    "print('Processando modelo arvore.obj. Vertice inicial:',len(vertices_list))\n",
    "faces_visited = []\n",
    "for face in modelo['faces']:\n",
    "    for vertice_id in face[0]:\n",
    "        vertices_list.append( modelo['vertices'][vertice_id-1] )\n",
    "    for texture_id in face[1]:\n",
    "        textures_coord_list.append( modelo['texture'][texture_id-1] )\n",
    "    for normal_id in face[2]:\n",
    "        normals_list.append( modelo['normals'][normal_id-1] )\n",
    "print('Processando modelo arvore.obj. Vertice final:',len(vertices_list))\n",
    "\n",
    "### inserindo coordenadas de textura do modelo no vetor de texturas\n",
    "\n",
    "\n",
    "### carregando textura equivalente e definindo um id (buffer): use um id por textura!\n",
    "load_texture_from_file(12,'modelo/bark_0021.jpg')\n",
    "load_texture_from_file(13,'modelo/DB2X2_L01.png')\n"
   ]
  },
  {
   "cell_type": "markdown",
   "metadata": {},
   "source": [
    "## Fogueira\n"
   ]
  },
  {
   "cell_type": "code",
   "execution_count": 23,
   "metadata": {
    "ExecuteTime": {
     "end_time": "2020-07-11T23:54:38.574877Z",
     "start_time": "2020-07-11T23:54:38.113841Z"
    }
   },
   "outputs": [
    {
     "name": "stdout",
     "output_type": "stream",
     "text": [
      "Processando modelo fogueira.obj. Vertice inicial: 172401\n",
      "Processando modelo fogueira.obj. Vertice final: 205347\n",
      "modelo/camp_diffuse.jpg RGB\n",
      "modelo/woodsground_diffuse.jpg RGB\n",
      "modelo/rocks_diffuse.jpg RGB\n",
      "modelo/utensilrope_diffuse.jpg RGB\n"
     ]
    }
   ],
   "source": [
    "modelo = load_model_from_file('modelo/fogueira.obj')\n",
    "\n",
    "### inserindo vertices do modelo no vetor de vertices\n",
    "print('Processando modelo fogueira.obj. Vertice inicial:',len(vertices_list))\n",
    "faces_visited = []\n",
    "for face in modelo['faces']:\n",
    "    for vertice_id in face[0]:\n",
    "        vertices_list.append( modelo['vertices'][vertice_id-1] )\n",
    "    for texture_id in face[1]:\n",
    "        textures_coord_list.append( modelo['texture'][texture_id-1] )\n",
    "    for normal_id in face[2]:\n",
    "        normals_list.append( modelo['normals'][normal_id-1] )\n",
    "print('Processando modelo fogueira.obj. Vertice final:',len(vertices_list))\n",
    "\n",
    "load_texture_from_file(14,'modelo/camp_diffuse.jpg')\n",
    "load_texture_from_file(15,'modelo/woodsground_diffuse.jpg')\n",
    "load_texture_from_file(16,'modelo/rocks_diffuse.jpg')\n",
    "load_texture_from_file(17,'modelo/utensilrope_diffuse.jpg')"
   ]
  },
  {
   "cell_type": "markdown",
   "metadata": {},
   "source": [
    "## Chão \"Infinito\""
   ]
  },
  {
   "cell_type": "code",
   "execution_count": 24,
   "metadata": {
    "ExecuteTime": {
     "end_time": "2020-07-11T23:54:38.703801Z",
     "start_time": "2020-07-11T23:54:38.576319Z"
    }
   },
   "outputs": [
    {
     "name": "stdout",
     "output_type": "stream",
     "text": [
      "Processando modelo chao_infinito.obj. Vertice inicial: 205347\n",
      "Processando modelo chao_infinito.obj. Vertice final: 205383\n",
      "modelo/grass1.jpg RGB\n"
     ]
    }
   ],
   "source": [
    "modelo = load_model_from_file('modelo/chao_infinito.obj')\n",
    "\n",
    "### inserindo vertices do modelo no vetor de vertices\n",
    "print('Processando modelo chao_infinito.obj. Vertice inicial:',len(vertices_list))\n",
    "faces_visited = []\n",
    "for face in modelo['faces']:\n",
    "    for vertice_id in face[0]:\n",
    "        vertices_list.append( modelo['vertices'][vertice_id-1] )\n",
    "    for texture_id in face[1]:\n",
    "        textures_coord_list.append( modelo['texture'][texture_id-1] )\n",
    "    for normal_id in face[2]:\n",
    "        normals_list.append( modelo['normals'][normal_id-1] )\n",
    "print('Processando modelo chao_infinito.obj. Vertice final:',len(vertices_list))\n",
    "\n",
    "load_texture_from_file(18,'modelo/grass1.jpg')\n"
   ]
  },
  {
   "cell_type": "markdown",
   "metadata": {},
   "source": [
    "## Poço"
   ]
  },
  {
   "cell_type": "code",
   "execution_count": 25,
   "metadata": {
    "ExecuteTime": {
     "end_time": "2020-07-11T23:54:39.095351Z",
     "start_time": "2020-07-11T23:54:38.705100Z"
    }
   },
   "outputs": [
    {
     "name": "stdout",
     "output_type": "stream",
     "text": [
      "Processando modelo well_blender.obj. Vertice inicial: 205383\n",
      "Processando modelo well_blender.obj. Vertice final: 211161\n",
      "modelo/well_lower_diffuse.png RGB\n",
      "modelo/well_middle_diffuse.png RGBA\n",
      "modelo/well_roof_diffuse.png RGB\n"
     ]
    }
   ],
   "source": [
    "modelo = load_model_from_file('modelo/well_blender.obj')\n",
    "\n",
    "### inserindo vertices do modelo no vetor de vertices\n",
    "print('Processando modelo well_blender.obj. Vertice inicial:',len(vertices_list))\n",
    "faces_visited = []\n",
    "for face in modelo['faces']:\n",
    "    for vertice_id in face[0]:\n",
    "        vertices_list.append( modelo['vertices'][vertice_id-1] )\n",
    "    for texture_id in face[1]:\n",
    "        textures_coord_list.append( modelo['texture'][texture_id-1] )\n",
    "    for normal_id in face[2]:\n",
    "        normals_list.append( modelo['normals'][normal_id-1] )\n",
    "print('Processando modelo well_blender.obj. Vertice final:',len(vertices_list))\n",
    "\n",
    "load_texture_from_file(19,'modelo/well_lower_diffuse.png')\n",
    "load_texture_from_file(20,'modelo/well_middle_diffuse.png')\n",
    "load_texture_from_file(21,'modelo/well_roof_diffuse.png')"
   ]
  },
  {
   "cell_type": "markdown",
   "metadata": {},
   "source": [
    "## Luz"
   ]
  },
  {
   "cell_type": "code",
   "execution_count": 26,
   "metadata": {
    "ExecuteTime": {
     "end_time": "2020-07-11T23:54:39.107967Z",
     "start_time": "2020-07-11T23:54:39.096631Z"
    }
   },
   "outputs": [
    {
     "name": "stdout",
     "output_type": "stream",
     "text": [
      "Processando modelo luz.obj. Vertice inicial: 211161\n",
      "Processando modelo luz.obj. Vertice final: 211197\n",
      "modelo/luz.png RGB\n"
     ]
    }
   ],
   "source": [
    "modelo = load_model_from_file('modelo/luz.obj')\n",
    "\n",
    "### inserindo vertices do modelo no vetor de vertices\n",
    "print('Processando modelo luz.obj. Vertice inicial:',len(vertices_list))\n",
    "for face in modelo['faces']:\n",
    "    for vertice_id in face[0]:\n",
    "        vertices_list.append( modelo['vertices'][vertice_id-1] )\n",
    "    for texture_id in face[1]:\n",
    "        textures_coord_list.append( modelo['texture'][texture_id-1] )\n",
    "    for normal_id in face[2]:\n",
    "        normals_list.append( modelo['normals'][normal_id-1] )\n",
    "print('Processando modelo luz.obj. Vertice final:',len(vertices_list))\n",
    "\n",
    "### inserindo coordenadas de textura do modelo no vetor de texturas\n",
    "\n",
    "\n",
    "### carregando textura equivalente e definindo um id (buffer): use um id por textura!\n",
    "load_texture_from_file(22,'modelo/luz.png')"
   ]
  },
  {
   "cell_type": "markdown",
   "metadata": {},
   "source": [
    "### Para enviar nossos dados da CPU para a GPU, precisamos requisitar slots.\n",
    "\n",
    "Nós agora vamos requisitar dois slots.\n",
    "* Um para enviar coordenadas dos vértices.\n",
    "* Outros para enviar coordenadas de texturas."
   ]
  },
  {
   "cell_type": "code",
   "execution_count": 27,
   "metadata": {
    "ExecuteTime": {
     "end_time": "2020-07-11T23:54:39.111460Z",
     "start_time": "2020-07-11T23:54:39.109169Z"
    }
   },
   "outputs": [],
   "source": [
    "# Request a buffer slot from GPU\n",
    "buffer = glGenBuffers(3)\n"
   ]
  },
  {
   "cell_type": "markdown",
   "metadata": {},
   "source": [
    "###  Enviando coordenadas de vértices para a GPU"
   ]
  },
  {
   "cell_type": "code",
   "execution_count": 28,
   "metadata": {
    "ExecuteTime": {
     "end_time": "2020-07-11T23:54:39.237721Z",
     "start_time": "2020-07-11T23:54:39.112637Z"
    }
   },
   "outputs": [],
   "source": [
    "vertices = np.zeros(len(vertices_list), [(\"position\", np.float32, 3)])\n",
    "vertices['position'] = vertices_list\n",
    "\n",
    "\n",
    "# Upload data\n",
    "glBindBuffer(GL_ARRAY_BUFFER, buffer[0])\n",
    "glBufferData(GL_ARRAY_BUFFER, vertices.nbytes, vertices, GL_STATIC_DRAW)\n",
    "stride = vertices.strides[0]\n",
    "offset = ctypes.c_void_p(0)\n",
    "loc_vertices = glGetAttribLocation(program, \"position\")\n",
    "glEnableVertexAttribArray(loc_vertices)\n",
    "glVertexAttribPointer(loc_vertices, 3, GL_FLOAT, False, stride, offset)\n"
   ]
  },
  {
   "cell_type": "markdown",
   "metadata": {},
   "source": [
    "###  Enviando coordenadas de textura para a GPU"
   ]
  },
  {
   "cell_type": "code",
   "execution_count": 29,
   "metadata": {
    "ExecuteTime": {
     "end_time": "2020-07-11T23:54:39.343667Z",
     "start_time": "2020-07-11T23:54:39.238858Z"
    }
   },
   "outputs": [],
   "source": [
    "textures = np.zeros(len(textures_coord_list), [(\"position\", np.float32, 2)]) # duas coordenadas\n",
    "textures['position'] = textures_coord_list\n",
    "\n",
    "\n",
    "# Upload data\n",
    "glBindBuffer(GL_ARRAY_BUFFER, buffer[1])\n",
    "glBufferData(GL_ARRAY_BUFFER, textures.nbytes, textures, GL_STATIC_DRAW)\n",
    "stride = textures.strides[0]\n",
    "offset = ctypes.c_void_p(0)\n",
    "loc_texture_coord = glGetAttribLocation(program, \"texture_coord\")\n",
    "glEnableVertexAttribArray(loc_texture_coord)\n",
    "glVertexAttribPointer(loc_texture_coord, 2, GL_FLOAT, False, stride, offset)\n",
    "\n",
    "\n",
    "\n"
   ]
  },
  {
   "cell_type": "markdown",
   "metadata": {},
   "source": [
    "## Enviando dados de Iluminação a GPU\n",
    "### Dados de iluminação: vetores normais"
   ]
  },
  {
   "cell_type": "code",
   "execution_count": 30,
   "metadata": {
    "ExecuteTime": {
     "end_time": "2020-07-11T23:54:39.463899Z",
     "start_time": "2020-07-11T23:54:39.344663Z"
    }
   },
   "outputs": [],
   "source": [
    "normals = np.zeros(len(normals_list), [(\"position\", np.float32, 3)]) # três coordenadas\n",
    "normals['position'] = normals_list\n",
    "\n",
    "\n",
    "# Upload coordenadas normals de cada vertice\n",
    "glBindBuffer(GL_ARRAY_BUFFER, buffer[2])\n",
    "glBufferData(GL_ARRAY_BUFFER, normals.nbytes, normals, GL_STATIC_DRAW)\n",
    "stride = normals.strides[0]\n",
    "offset = ctypes.c_void_p(0)\n",
    "loc_normals_coord = glGetAttribLocation(program, \"normals\")\n",
    "glEnableVertexAttribArray(loc_normals_coord)\n",
    "glVertexAttribPointer(loc_normals_coord, 3, GL_FLOAT, False, stride, offset)"
   ]
  },
  {
   "cell_type": "markdown",
   "metadata": {},
   "source": [
    "### Desenhando nossos modelos\n",
    "* Cada modelo tem um Model para posicioná-los no mundo.\n",
    "* É necessário saber qual a posição inicial e total de vértices de cada modelo\n",
    "* É necessário indicar qual o ID da textura do modelo\n"
   ]
  },
  {
   "cell_type": "markdown",
   "metadata": {},
   "source": [
    "## Terreno"
   ]
  },
  {
   "cell_type": "code",
   "execution_count": 31,
   "metadata": {
    "ExecuteTime": {
     "end_time": "2020-07-11T23:54:39.471467Z",
     "start_time": "2020-07-11T23:54:39.465157Z"
    }
   },
   "outputs": [],
   "source": [
    "def desenha_chao(t_x=0.0,t_y=0.0,t_z=0.0):\n",
    "    angle = 90.0;\n",
    "    r_x = 0.0; r_y = 1.0; r_z = 0.0;\n",
    "    t_x=0.0;t_y=0.0;t_z=0.0;\n",
    "    s_x = 1.0; s_y = 1.0; s_z = 1.0;\n",
    "    mat_model = model(angle, r_x, r_y, r_z, t_x, t_y, t_z, s_x, s_y, s_z)\n",
    "    loc_model = glGetUniformLocation(program, \"model\")\n",
    "    glUniformMatrix4fv(loc_model, 1, GL_TRUE, mat_model)\n",
    "    \n",
    "    #### define parametros de iluminacao do modelo\n",
    "    ka = 0.4 # coeficiente de reflexao ambiente do modelo\n",
    "    kd = 0.9 # coeficiente de reflexao difusa do modelo\n",
    "    ks = 0.1 # coeficiente de reflexao especular do modelo\n",
    "    ns = 64.0 # expoente de reflexao especular\n",
    "    \n",
    "    loc_ka = glGetUniformLocation(program, \"ka\") # recuperando localizacao da variavel ka na GPU\n",
    "    glUniform1f(loc_ka, ka) ### envia ka pra gpu\n",
    "    \n",
    "    loc_kd = glGetUniformLocation(program, \"kd\") # recuperando localizacao da variavel kd na GPU\n",
    "    glUniform1f(loc_kd, kd) ### envia kd pra gpu    \n",
    "    \n",
    "    loc_ks = glGetUniformLocation(program, \"ks\") # recuperando localizacao da variavel ks na GPU\n",
    "    glUniform1f(loc_ks, ks) ### envia ks pra gpu        \n",
    "    \n",
    "    loc_ns = glGetUniformLocation(program, \"ns\") # recuperando localizacao da variavel ns na GPU\n",
    "    glUniform1f(loc_ns, ns) ### envia ns pra gpu \n",
    "    \n",
    "    #define id da textura do modelo\n",
    "    glBindTexture(GL_TEXTURE_2D, 0)\n",
    "    glDrawArrays(GL_TRIANGLES, 0, 132) ## renderizando\n",
    "    glBindTexture(GL_TEXTURE_2D, 1)\n",
    "    glDrawArrays(GL_TRIANGLES, 132, 156-132) ## renderizando"
   ]
  },
  {
   "cell_type": "markdown",
   "metadata": {},
   "source": [
    "## Céu"
   ]
  },
  {
   "cell_type": "code",
   "execution_count": 32,
   "metadata": {
    "ExecuteTime": {
     "end_time": "2020-07-11T23:54:39.480554Z",
     "start_time": "2020-07-11T23:54:39.472468Z"
    }
   },
   "outputs": [],
   "source": [
    "def desenha_skybox(angle=0.0):\n",
    "    r_x = 0.0; r_y = 0.0; r_z = 1.0;\n",
    "    t_x = 0.0; t_y = -10.1; t_z = 0.0;\n",
    "    s_x = 5.0; s_y = 5.0; s_z = 5.0;\n",
    "    mat_model = model(angle, r_x, r_y, r_z, t_x, t_y, t_z, s_x, s_y, s_z)\n",
    "    loc_model = glGetUniformLocation(program, \"model\")\n",
    "    glUniformMatrix4fv(loc_model, 1, GL_TRUE, mat_model)\n",
    "    \n",
    "        \n",
    "    #### define parametros de iluminacao do modelo\n",
    "    ka = 0.4 # coeficiente de reflexao ambiente do modelo\n",
    "    kd = 0.9 # coeficiente de reflexao difusa do modelo\n",
    "    ks = 0.1 # coeficiente de reflexao especular do modelo\n",
    "    ns = 64.0 # expoente de reflexao especular\n",
    "    \n",
    "    loc_ka = glGetUniformLocation(program, \"ka\") # recuperando localizacao da variavel ka na GPU\n",
    "    glUniform1f(loc_ka, ka) ### envia ka pra gpu\n",
    "    \n",
    "    loc_kd = glGetUniformLocation(program, \"kd\") # recuperando localizacao da variavel kd na GPU\n",
    "    glUniform1f(loc_kd, kd) ### envia kd pra gpu    \n",
    "    \n",
    "    loc_ks = glGetUniformLocation(program, \"ks\") # recuperando localizacao da variavel ks na GPU\n",
    "    glUniform1f(loc_ks, ks) ### envia ks pra gpu        \n",
    "    \n",
    "    loc_ns = glGetUniformLocation(program, \"ns\") # recuperando localizacao da variavel ns na GPU\n",
    "    glUniform1f(loc_ns, ns) ### envia ns pra gpu \n",
    "    \n",
    "    glBindTexture(GL_TEXTURE_2D, 2)#text. ceu\n",
    "    glDrawArrays(GL_TRIANGLES, 156, 34716-156) ## renderizando"
   ]
  },
  {
   "cell_type": "markdown",
   "metadata": {},
   "source": [
    "## Casa"
   ]
  },
  {
   "cell_type": "code",
   "execution_count": 33,
   "metadata": {
    "ExecuteTime": {
     "end_time": "2020-07-11T23:54:39.490359Z",
     "start_time": "2020-07-11T23:54:39.481544Z"
    }
   },
   "outputs": [],
   "source": [
    "def desenha_casa():\n",
    "    angle = 270.0;\n",
    "    r_x = 0.0; r_y = 1.0; r_z = 0.0;\n",
    "    t_x = -18.0; t_y = 0.0; t_z = 0.0;\n",
    "    s_x = 2.0; s_y = 2.0; s_z = 2.0;\n",
    "    mat_model = model(angle, r_x, r_y, r_z, t_x, t_y, t_z, s_x, s_y, s_z)\n",
    "    loc_model = glGetUniformLocation(program, \"model\")\n",
    "    glUniformMatrix4fv(loc_model, 1, GL_TRUE, mat_model)\n",
    "    \n",
    "    #### define parametros de iluminacao do modelo\n",
    "    ka = 0.4 # coeficiente de reflexao ambiente do modelo\n",
    "    kd = 0.9 # coeficiente de reflexao difusa do modelo\n",
    "    ks = 0.1 # coeficiente de reflexao especular do modelo\n",
    "    ns = 64.0 # expoente de reflexao especular\n",
    "    \n",
    "    loc_ka = glGetUniformLocation(program, \"ka\") # recuperando localizacao da variavel ka na GPU\n",
    "    glUniform1f(loc_ka, ka) ### envia ka pra gpu\n",
    "    \n",
    "    loc_kd = glGetUniformLocation(program, \"kd\") # recuperando localizacao da variavel kd na GPU\n",
    "    glUniform1f(loc_kd, kd) ### envia kd pra gpu    \n",
    "    \n",
    "    loc_ks = glGetUniformLocation(program, \"ks\") # recuperando localizacao da variavel ks na GPU\n",
    "    glUniform1f(loc_ks, ks) ### envia ks pra gpu        \n",
    "    \n",
    "    loc_ns = glGetUniformLocation(program, \"ns\") # recuperando localizacao da variavel ns na GPU\n",
    "    glUniform1f(loc_ns, ns) ### envia ns pra gpu \n",
    "    \n",
    "    glBindTexture(GL_TEXTURE_2D, 3)#textura casa\n",
    "    glDrawArrays(GL_TRIANGLES, 34716, 47493-34716)\n",
    "    glBindTexture(GL_TEXTURE_2D, 4)#textura chao casa\n",
    "    glDrawArrays(GL_TRIANGLES, 47493, 47511-47493)"
   ]
  },
  {
   "cell_type": "markdown",
   "metadata": {},
   "source": [
    "## Sofá"
   ]
  },
  {
   "cell_type": "code",
   "execution_count": 34,
   "metadata": {
    "ExecuteTime": {
     "end_time": "2020-07-11T23:54:39.499581Z",
     "start_time": "2020-07-11T23:54:39.491413Z"
    }
   },
   "outputs": [],
   "source": [
    "def desenha_sofa(t_x=0.0,t_y=0.0,t_z=0.0):\n",
    "    angle = 180.0;\n",
    "    r_x = 0.0; r_y = 1.0; r_z = 0.0;\n",
    "    #t_x = 5.0; t_y = 1.0; t_z = 3.0;\n",
    "    s_x = 2.5; s_y = 2.5; s_z = 2.5;\n",
    "    mat_model = model(angle, r_x, r_y, r_z, t_x, t_y, t_z, s_x, s_y, s_z)\n",
    "    loc_model = glGetUniformLocation(program, \"model\")\n",
    "    glUniformMatrix4fv(loc_model, 1, GL_TRUE, mat_model)\n",
    "    \n",
    "    #### define parametros de iluminacao do modelo\n",
    "    ka = 0.6 # coeficiente de reflexao ambiente do modelo\n",
    "    kd = 0.9 # coeficiente de reflexao difusa do modelo\n",
    "    ks = 0.1 # coeficiente de reflexao especular do modelo\n",
    "    ns = 64.0 # expoente de reflexao especular\n",
    "    \n",
    "    loc_ka = glGetUniformLocation(program, \"ka\") # recuperando localizacao da variavel ka na GPU\n",
    "    glUniform1f(loc_ka, ka) ### envia ka pra gpu\n",
    "    \n",
    "    loc_kd = glGetUniformLocation(program, \"kd\") # recuperando localizacao da variavel kd na GPU\n",
    "    glUniform1f(loc_kd, kd) ### envia kd pra gpu    \n",
    "    \n",
    "    loc_ks = glGetUniformLocation(program, \"ks\") # recuperando localizacao da variavel ks na GPU\n",
    "    glUniform1f(loc_ks, ks) ### envia ks pra gpu        \n",
    "    \n",
    "    loc_ns = glGetUniformLocation(program, \"ns\") # recuperando localizacao da variavel ns na GPU\n",
    "    glUniform1f(loc_ns, ns) ### envia ns pra gpu \n",
    "    \n",
    "    glBindTexture(GL_TEXTURE_2D, 5)\n",
    "    glDrawArrays(GL_TRIANGLES, 47511, 97443-47511) ## renderizando"
   ]
  },
  {
   "cell_type": "markdown",
   "metadata": {},
   "source": [
    "## Escrivaninha"
   ]
  },
  {
   "cell_type": "code",
   "execution_count": 35,
   "metadata": {
    "ExecuteTime": {
     "end_time": "2020-07-11T23:54:39.508522Z",
     "start_time": "2020-07-11T23:54:39.500813Z"
    }
   },
   "outputs": [],
   "source": [
    "def desenha_escrivaninha(t_x=-23.0,t_y=2.0,t_z=-9.5):\n",
    "    angle = 270.0;\n",
    "    r_x = 0.0; r_y = 1.0; r_z = 0.0;\n",
    "    #t_x = 5.0; t_y = 1.0; t_z = 3.0;\n",
    "    s_x = 0.5; s_y = 0.5; s_z = 0.5;\n",
    "    mat_model = model(angle, r_x, r_y, r_z, t_x, t_y, t_z, s_x, s_y, s_z)\n",
    "    loc_model = glGetUniformLocation(program, \"model\")\n",
    "    glUniformMatrix4fv(loc_model, 1, GL_TRUE, mat_model)\n",
    "    \n",
    "    #### define parametros de iluminacao do modelo\n",
    "    ka = 0.3 # coeficiente de reflexao ambiente do modelo\n",
    "    kd = 0.9 # coeficiente de reflexao difusa do modelo\n",
    "    ks = 0.1 # coeficiente de reflexao especular do modelo\n",
    "    ns = 64.0 # expoente de reflexao especular\n",
    "    \n",
    "    loc_ka = glGetUniformLocation(program, \"ka\") # recuperando localizacao da variavel ka na GPU\n",
    "    glUniform1f(loc_ka, ka) ### envia ka pra gpu\n",
    "    \n",
    "    loc_kd = glGetUniformLocation(program, \"kd\") # recuperando localizacao da variavel kd na GPU\n",
    "    glUniform1f(loc_kd, kd) ### envia kd pra gpu    \n",
    "    \n",
    "    loc_ks = glGetUniformLocation(program, \"ks\") # recuperando localizacao da variavel ks na GPU\n",
    "    glUniform1f(loc_ks, ks) ### envia ks pra gpu        \n",
    "    \n",
    "    loc_ns = glGetUniformLocation(program, \"ns\") # recuperando localizacao da variavel ns na GPU\n",
    "    glUniform1f(loc_ns, ns) ### envia ns pra gpu \n",
    "    \n",
    "    glBindTexture(GL_TEXTURE_2D, 6)#text. madeira escrivaninha\n",
    "    glDrawArrays(GL_TRIANGLES, 97443, 97935-97443)\n",
    "    glBindTexture(GL_TEXTURE_2D, 7)#text. puxador das gavetas\n",
    "    glDrawArrays(GL_TRIANGLES, 97935, 98499-97935)"
   ]
  },
  {
   "cell_type": "markdown",
   "metadata": {},
   "source": [
    "## Televisão"
   ]
  },
  {
   "cell_type": "code",
   "execution_count": 36,
   "metadata": {
    "ExecuteTime": {
     "end_time": "2020-07-11T23:54:39.517588Z",
     "start_time": "2020-07-11T23:54:39.509631Z"
    }
   },
   "outputs": [],
   "source": [
    "def desenha_televisao(t_x=-15.0,t_y=2.0,t_z=-10.5):\n",
    "    angle = 270.0;\n",
    "    r_x = 0.0; r_y = 1.0; r_z = 0.0;\n",
    "    #t_x = 5.0; t_y = 1.0; t_z = 3.0;\n",
    "    s_x = 0.5; s_y = 0.5; s_z = 0.5;\n",
    "    mat_model = model(angle, r_x, r_y, r_z, t_x, t_y, t_z, s_x, s_y, s_z)\n",
    "    loc_model = glGetUniformLocation(program, \"model\")\n",
    "    glUniformMatrix4fv(loc_model, 1, GL_TRUE, mat_model)\n",
    "    \n",
    "    #### define parametros de iluminacao do modelo\n",
    "    ka = 0.6 # coeficiente de reflexao ambiente do modelo\n",
    "    kd = 0.9 # coeficiente de reflexao difusa do modelo\n",
    "    ks = 0.1 # coeficiente de reflexao especular do modelo\n",
    "    ns = 64.0 # expoente de reflexao especular\n",
    "    \n",
    "    loc_ka = glGetUniformLocation(program, \"ka\") # recuperando localizacao da variavel ka na GPU\n",
    "    glUniform1f(loc_ka, ka) ### envia ka pra gpu\n",
    "    \n",
    "    loc_kd = glGetUniformLocation(program, \"kd\") # recuperando localizacao da variavel kd na GPU\n",
    "    glUniform1f(loc_kd, kd) ### envia kd pra gpu    \n",
    "    \n",
    "    loc_ks = glGetUniformLocation(program, \"ks\") # recuperando localizacao da variavel ks na GPU\n",
    "    glUniform1f(loc_ks, ks) ### envia ks pra gpu        \n",
    "    \n",
    "    loc_ns = glGetUniformLocation(program, \"ns\") # recuperando localizacao da variavel ns na GPU\n",
    "    glUniform1f(loc_ns, ns) ### envia ns pra gpu \n",
    "    \n",
    "    glBindTexture(GL_TEXTURE_2D, 8)#text. preta da televisão\n",
    "    glDrawArrays(GL_TRIANGLES, 98499, 104091-98499)\n",
    "    glBindTexture(GL_TEXTURE_2D, 9)# william bonner\n",
    "    glDrawArrays(GL_TRIANGLES, 104091, 104103-104091)"
   ]
  },
  {
   "cell_type": "markdown",
   "metadata": {},
   "source": [
    "## Carro"
   ]
  },
  {
   "cell_type": "code",
   "execution_count": 37,
   "metadata": {
    "ExecuteTime": {
     "end_time": "2020-07-11T23:54:39.526694Z",
     "start_time": "2020-07-11T23:54:39.518608Z"
    }
   },
   "outputs": [],
   "source": [
    "def desenha_carro1(t_x=0.0,t_y=0.0,t_z=0.0):\n",
    "    angle = 90.0;\n",
    "    r_x = 0.0; r_y = 1.0; r_z = 0.0;\n",
    "    #t_x = 5.0; t_y = 1.0; t_z = 3.0;\n",
    "    s_x = 1.5; s_y = 1.5; s_z = 1.5;\n",
    "    mat_model = model(angle, r_x, r_y, r_z, t_x, t_y, t_z, s_x, s_y, s_z)\n",
    "    loc_model = glGetUniformLocation(program, \"model\")\n",
    "    glUniformMatrix4fv(loc_model, 1, GL_TRUE, mat_model)\n",
    "    \n",
    "    #### define parametros de iluminacao do modelo\n",
    "    ka = 0.3 # coeficiente de reflexao ambiente do modelo\n",
    "    kd = 0.9 # coeficiente de reflexao difusa do modelo\n",
    "    ks = 0.1 # coeficiente de reflexao especular do modelo\n",
    "    ns = 64.0 # expoente de reflexao especular\n",
    "    \n",
    "    loc_ka = glGetUniformLocation(program, \"ka\") # recuperando localizacao da variavel ka na GPU\n",
    "    glUniform1f(loc_ka, ka) ### envia ka pra gpu\n",
    "    \n",
    "    loc_kd = glGetUniformLocation(program, \"kd\") # recuperando localizacao da variavel kd na GPU\n",
    "    glUniform1f(loc_kd, kd) ### envia kd pra gpu    \n",
    "    \n",
    "    loc_ks = glGetUniformLocation(program, \"ks\") # recuperando localizacao da variavel ks na GPU\n",
    "    glUniform1f(loc_ks, ks) ### envia ks pra gpu        \n",
    "    \n",
    "    loc_ns = glGetUniformLocation(program, \"ns\") # recuperando localizacao da variavel ns na GPU\n",
    "    glUniform1f(loc_ns, ns) ### envia ns pra gpu \n",
    "    \n",
    "    glBindTexture(GL_TEXTURE_2D, 10)\n",
    "    glDrawArrays(GL_TRIANGLES, 104103, 115497-104103) ## renderizando"
   ]
  },
  {
   "cell_type": "markdown",
   "metadata": {},
   "source": [
    "## Carro de Polícia"
   ]
  },
  {
   "cell_type": "code",
   "execution_count": 38,
   "metadata": {
    "ExecuteTime": {
     "end_time": "2020-07-11T23:54:39.535768Z",
     "start_time": "2020-07-11T23:54:39.527756Z"
    }
   },
   "outputs": [],
   "source": [
    "def desenha_carro2(t_x=0.0,t_y=0.0,t_z=0.0):\n",
    "    angle = 90.0;\n",
    "    r_x = 0.0; r_y = 1.0; r_z = 0.0;\n",
    "    #t_x = 5.0; t_y = 1.0; t_z = 3.0;\n",
    "    s_x = 1.5; s_y = 1.5; s_z = 1.5;\n",
    "    mat_model = model(angle, r_x, r_y, r_z, t_x, t_y, t_z, s_x, s_y, s_z)\n",
    "    loc_model = glGetUniformLocation(program, \"model\")\n",
    "    glUniformMatrix4fv(loc_model, 1, GL_TRUE, mat_model)\n",
    "    \n",
    "    #### define parametros de iluminacao do modelo\n",
    "    ka = 0.3 # coeficiente de reflexao ambiente do modelo\n",
    "    kd = 0.6 # coeficiente de reflexao difusa do modelo\n",
    "    ks = 0.1 # coeficiente de reflexao especular do modelo\n",
    "    ns = 64.0 # expoente de reflexao especular\n",
    "    \n",
    "    loc_ka = glGetUniformLocation(program, \"ka\") # recuperando localizacao da variavel ka na GPU\n",
    "    glUniform1f(loc_ka, ka) ### envia ka pra gpu\n",
    "    \n",
    "    loc_kd = glGetUniformLocation(program, \"kd\") # recuperando localizacao da variavel kd na GPU\n",
    "    glUniform1f(loc_kd, kd) ### envia kd pra gpu    \n",
    "    \n",
    "    loc_ks = glGetUniformLocation(program, \"ks\") # recuperando localizacao da variavel ks na GPU\n",
    "    glUniform1f(loc_ks, ks) ### envia ks pra gpu        \n",
    "    \n",
    "    loc_ns = glGetUniformLocation(program, \"ns\") # recuperando localizacao da variavel ns na GPU\n",
    "    glUniform1f(loc_ns, ns) ### envia ns pra gpu \n",
    "    \n",
    "    glBindTexture(GL_TEXTURE_2D, 11)\n",
    "    glDrawArrays(GL_TRIANGLES, 115497, 131229-115497) ## renderizando"
   ]
  },
  {
   "cell_type": "markdown",
   "metadata": {},
   "source": [
    "## Árvore"
   ]
  },
  {
   "cell_type": "code",
   "execution_count": 39,
   "metadata": {
    "ExecuteTime": {
     "end_time": "2020-07-11T23:54:39.545097Z",
     "start_time": "2020-07-11T23:54:39.536769Z"
    }
   },
   "outputs": [],
   "source": [
    "def desenha_arvore():\n",
    "    angle = 0.0;\n",
    "    r_x = 0.0; r_y = 0.0; r_z = 1.0;\n",
    "    t_x = -20.0; t_y = -1.0; t_z = -40.0;\n",
    "    s_x = 7.0; s_y = 7.0; s_z = 7.0;\n",
    "    mat_model = model(angle, r_x, r_y, r_z, t_x, t_y, t_z, s_x, s_y, s_z)\n",
    "    loc_model = glGetUniformLocation(program, \"model\")\n",
    "    glUniformMatrix4fv(loc_model, 1, GL_TRUE, mat_model)\n",
    "    \n",
    "    #### define parametros de iluminacao do modelo\n",
    "    ka = 0.3 # coeficiente de reflexao ambiente do modelo\n",
    "    kd = 0.6 # coeficiente de reflexao difusa do modelo\n",
    "    ks = 0.1 # coeficiente de reflexao especular do modelo\n",
    "    ns = 64.0 # expoente de reflexao especular\n",
    "    \n",
    "    loc_ka = glGetUniformLocation(program, \"ka\") # recuperando localizacao da variavel ka na GPU\n",
    "    glUniform1f(loc_ka, ka) ### envia ka pra gpu\n",
    "    \n",
    "    loc_kd = glGetUniformLocation(program, \"kd\") # recuperando localizacao da variavel kd na GPU\n",
    "    glUniform1f(loc_kd, kd) ### envia kd pra gpu    \n",
    "    \n",
    "    loc_ks = glGetUniformLocation(program, \"ks\") # recuperando localizacao da variavel ks na GPU\n",
    "    glUniform1f(loc_ks, ks) ### envia ks pra gpu        \n",
    "    \n",
    "    loc_ns = glGetUniformLocation(program, \"ns\") # recuperando localizacao da variavel ns na GPU\n",
    "    glUniform1f(loc_ns, ns) ### envia ns pra gpu \n",
    "    \n",
    "    glBindTexture(GL_TEXTURE_2D, 12)#text. tronco\n",
    "    glDrawArrays(GL_TRIANGLES, 131229, 151491-131229) ## renderizando\n",
    "    glBindTexture(GL_TEXTURE_2D, 13)#text. folhas\n",
    "    glDrawArrays(GL_TRIANGLES, 151491, 172401-151491) ## renderizando"
   ]
  },
  {
   "cell_type": "markdown",
   "metadata": {},
   "source": [
    "## Fogueira e Barraca"
   ]
  },
  {
   "cell_type": "code",
   "execution_count": 40,
   "metadata": {
    "ExecuteTime": {
     "end_time": "2020-07-11T23:54:39.554179Z",
     "start_time": "2020-07-11T23:54:39.546187Z"
    }
   },
   "outputs": [],
   "source": [
    "def desenha_fogueira():\n",
    "    angle = 45.0;\n",
    "    r_x = 0.0; r_y = 1.0; r_z = 0.0;\n",
    "    t_x = -20.0; t_y = 0.2; t_z = 50.0;\n",
    "    s_x = 0.2; s_y = 0.2; s_z = 0.2;\n",
    "    mat_model = model(angle, r_x, r_y, r_z, t_x, t_y, t_z, s_x, s_y, s_z)\n",
    "    loc_model = glGetUniformLocation(program, \"model\")\n",
    "    glUniformMatrix4fv(loc_model, 1, GL_TRUE, mat_model)\n",
    "    \n",
    "    #### define parametros de iluminacao do modelo\n",
    "    ka = 0.3 # coeficiente de reflexao ambiente do modelo\n",
    "    kd = 0.6 # coeficiente de reflexao difusa do modelo\n",
    "    ks = 0.1 # coeficiente de reflexao especular do modelo\n",
    "    ns = 64.0 # expoente de reflexao especular\n",
    "    \n",
    "    loc_ka = glGetUniformLocation(program, \"ka\") # recuperando localizacao da variavel ka na GPU\n",
    "    glUniform1f(loc_ka, ka) ### envia ka pra gpu\n",
    "    \n",
    "    loc_kd = glGetUniformLocation(program, \"kd\") # recuperando localizacao da variavel kd na GPU\n",
    "    glUniform1f(loc_kd, kd) ### envia kd pra gpu    \n",
    "    \n",
    "    loc_ks = glGetUniformLocation(program, \"ks\") # recuperando localizacao da variavel ks na GPU\n",
    "    glUniform1f(loc_ks, ks) ### envia ks pra gpu        \n",
    "    \n",
    "    loc_ns = glGetUniformLocation(program, \"ns\") # recuperando localizacao da variavel ns na GPU\n",
    "    glUniform1f(loc_ns, ns) ### envia ns pra gpu \n",
    "    \n",
    "    glBindTexture(GL_TEXTURE_2D, 14)#text. tronco\n",
    "    glDrawArrays(GL_TRIANGLES, 172401, 180039-172401) ## renderizando\n",
    "    glBindTexture(GL_TEXTURE_2D, 15)#text. folhas\n",
    "    glDrawArrays(GL_TRIANGLES, 180039, 186747-180039) ## renderizando\n",
    "    glBindTexture(GL_TEXTURE_2D, 16)#text. tronco\n",
    "    glDrawArrays(GL_TRIANGLES, 186747, 192303-186747) ## renderizando\n",
    "    glBindTexture(GL_TEXTURE_2D, 17)#text. folhas\n",
    "    glDrawArrays(GL_TRIANGLES, 192303, 205347-192303) ## renderizando"
   ]
  },
  {
   "cell_type": "markdown",
   "metadata": {},
   "source": [
    "## Chão \"Infinito\""
   ]
  },
  {
   "cell_type": "code",
   "execution_count": 41,
   "metadata": {
    "ExecuteTime": {
     "end_time": "2020-07-11T23:54:39.563309Z",
     "start_time": "2020-07-11T23:54:39.555163Z"
    }
   },
   "outputs": [],
   "source": [
    "def desenha_chao_infinito():\n",
    "    angle = 0.0;\n",
    "    r_x = 0.0; r_y = 1.0; r_z = 0.0;\n",
    "    t_x = 0.0; t_y = -10.0; t_z = 0.0;\n",
    "    s_x = 1.0; s_y = 1.0; s_z = 1.0;\n",
    "    mat_model = model(angle, r_x, r_y, r_z, t_x, t_y, t_z, s_x, s_y, s_z)\n",
    "    loc_model = glGetUniformLocation(program, \"model\")\n",
    "    glUniformMatrix4fv(loc_model, 1, GL_TRUE, mat_model)\n",
    "    \n",
    "    #### define parametros de iluminacao do modelo\n",
    "    ka = 0.3 # coeficiente de reflexao ambiente do modelo\n",
    "    kd = 0.6 # coeficiente de reflexao difusa do modelo\n",
    "    ks = 0.1 # coeficiente de reflexao especular do modelo\n",
    "    ns = 64.0 # expoente de reflexao especular\n",
    "    \n",
    "    loc_ka = glGetUniformLocation(program, \"ka\") # recuperando localizacao da variavel ka na GPU\n",
    "    glUniform1f(loc_ka, ka) ### envia ka pra gpu\n",
    "    \n",
    "    loc_kd = glGetUniformLocation(program, \"kd\") # recuperando localizacao da variavel kd na GPU\n",
    "    glUniform1f(loc_kd, kd) ### envia kd pra gpu    \n",
    "    \n",
    "    loc_ks = glGetUniformLocation(program, \"ks\") # recuperando localizacao da variavel ks na GPU\n",
    "    glUniform1f(loc_ks, ks) ### envia ks pra gpu        \n",
    "    \n",
    "    loc_ns = glGetUniformLocation(program, \"ns\") # recuperando localizacao da variavel ns na GPU\n",
    "    glUniform1f(loc_ns, ns) ### envia ns pra gpu \n",
    "    \n",
    "    glBindTexture(GL_TEXTURE_2D, 18)#text. grama\n",
    "    glDrawArrays(GL_TRIANGLES, 205347, 205383-205347) ## renderizando"
   ]
  },
  {
   "cell_type": "markdown",
   "metadata": {},
   "source": [
    "## Poço"
   ]
  },
  {
   "cell_type": "code",
   "execution_count": 42,
   "metadata": {
    "ExecuteTime": {
     "end_time": "2020-07-11T23:54:39.572637Z",
     "start_time": "2020-07-11T23:54:39.564398Z"
    }
   },
   "outputs": [],
   "source": [
    "def desenha_poco():\n",
    "    angle = 0.0;\n",
    "    r_x = 0.0; r_y = 1.0; r_z = 0.0;\n",
    "    t_x = 30.0; t_y = -0.3; t_z = 20.0;\n",
    "    s_x = 0.3; s_y = 0.3; s_z = 0.3;\n",
    "    mat_model = model(angle, r_x, r_y, r_z, t_x, t_y, t_z, s_x, s_y, s_z)\n",
    "    loc_model = glGetUniformLocation(program, \"model\")\n",
    "    glUniformMatrix4fv(loc_model, 1, GL_TRUE, mat_model)\n",
    "    \n",
    "    #### define parametros de iluminacao do modelo\n",
    "    ka = 0.3 # coeficiente de reflexao ambiente do modelo\n",
    "    kd = 0.6 # coeficiente de reflexao difusa do modelo\n",
    "    ks = 0.1 # coeficiente de reflexao especular do modelo\n",
    "    ns = 64.0 # expoente de reflexao especular\n",
    "    \n",
    "    loc_ka = glGetUniformLocation(program, \"ka\") # recuperando localizacao da variavel ka na GPU\n",
    "    glUniform1f(loc_ka, ka) ### envia ka pra gpu\n",
    "    \n",
    "    loc_kd = glGetUniformLocation(program, \"kd\") # recuperando localizacao da variavel kd na GPU\n",
    "    glUniform1f(loc_kd, kd) ### envia kd pra gpu    \n",
    "    \n",
    "    loc_ks = glGetUniformLocation(program, \"ks\") # recuperando localizacao da variavel ks na GPU\n",
    "    glUniform1f(loc_ks, ks) ### envia ks pra gpu        \n",
    "    \n",
    "    loc_ns = glGetUniformLocation(program, \"ns\") # recuperando localizacao da variavel ns na GPU\n",
    "    glUniform1f(loc_ns, ns) ### envia ns pra gpu \n",
    "    \n",
    "    glBindTexture(GL_TEXTURE_2D, 19)#text. grama\n",
    "    glDrawArrays(GL_TRIANGLES, 205383, 208857-205383) ## renderizando\n",
    "    glBindTexture(GL_TEXTURE_2D, 20)#text. grama\n",
    "    glDrawArrays(GL_TRIANGLES, 208857, 210681-208857) ## renderizando\n",
    "    glBindTexture(GL_TEXTURE_2D, 21)#text. grama\n",
    "    glDrawArrays(GL_TRIANGLES, 210681, 211161-210681) ## renderizando"
   ]
  },
  {
   "cell_type": "markdown",
   "metadata": {},
   "source": [
    "## Luz"
   ]
  },
  {
   "cell_type": "code",
   "execution_count": 43,
   "metadata": {
    "ExecuteTime": {
     "end_time": "2020-07-11T23:54:39.582227Z",
     "start_time": "2020-07-11T23:54:39.573816Z"
    }
   },
   "outputs": [],
   "source": [
    "def desenha_luz(t_x, t_y, t_z):\n",
    "    \n",
    "\n",
    "    # aplica a matriz model\n",
    "    angle = 0.0\n",
    "    \n",
    "    r_x = 0.0; r_y = 0.0; r_z = 1.0;\n",
    "    \n",
    "    # translacao\n",
    "    #t_x = 0.0; t_y = 0.0; t_z = 0.0;\n",
    "    \n",
    "    # escala\n",
    "    s_x = 10; s_y = 10; s_z = 10;\n",
    "    \n",
    "    mat_model = model(angle, r_x, r_y, r_z, t_x, t_y, t_z, s_x, s_y, s_z)\n",
    "    loc_model = glGetUniformLocation(program, \"model\")\n",
    "    glUniformMatrix4fv(loc_model, 1, GL_TRUE, mat_model)\n",
    "       \n",
    "    \n",
    "    #### define parametros de ilumincao do modelo\n",
    "    ka = 1 # coeficiente de reflexao ambiente do modelo\n",
    "    kd = 1 # coeficiente de reflexao difusa do modelo\n",
    "    ks = 1 # coeficiente de reflexao especular do modelo\n",
    "    ns = 128.0 # expoente de reflexao especular\n",
    "    \n",
    "    loc_ka = glGetUniformLocation(program, \"ka\") # recuperando localizacao da variavel ka na GPU\n",
    "    glUniform1f(loc_ka, ka) ### envia ka pra gpu\n",
    "    \n",
    "    loc_kd = glGetUniformLocation(program, \"kd\") # recuperando localizacao da variavel kd na GPU\n",
    "    glUniform1f(loc_kd, kd) ### envia kd pra gpu    \n",
    "    \n",
    "    loc_ks = glGetUniformLocation(program, \"ks\") # recuperando localizacao da variavel ks na GPU\n",
    "    glUniform1f(loc_ks, ks) ### envia ns pra gpu        \n",
    "    \n",
    "    loc_ns = glGetUniformLocation(program, \"ns\") # recuperando localizacao da variavel ns na GPU\n",
    "    glUniform1f(loc_ns, ns) ### envia ns pra gpu            \n",
    "    \n",
    "    loc_light_pos = glGetUniformLocation(program, \"lightPos\") # recuperando localizacao da variavel lightPos na GPU\n",
    "    glUniform3f(loc_light_pos, t_x, t_y, t_z) ### posicao da fonte de luz\n",
    "        \n",
    "    \n",
    "    #define id da textura do modelo\n",
    "    glBindTexture(GL_TEXTURE_2D, 22)\n",
    "    \n",
    "    \n",
    "    # desenha o modelo\n",
    "    glDrawArrays(GL_TRIANGLES, 211161, 36) ## renderizando"
   ]
  },
  {
   "cell_type": "markdown",
   "metadata": {},
   "source": [
    "### Eventos para modificar a posição da câmera.\n",
    "\n",
    "* Usei as teclas A, S, D e W para movimentação no espaço tridimensional\n",
    "* Usei a posição do mouse para \"direcionar\" a câmera"
   ]
  },
  {
   "cell_type": "code",
   "execution_count": 44,
   "metadata": {
    "ExecuteTime": {
     "end_time": "2020-07-11T23:54:39.594340Z",
     "start_time": "2020-07-11T23:54:39.583337Z"
    }
   },
   "outputs": [],
   "source": [
    "cameraPos   = glm.vec3(0.0,  4.0,  1.0);\n",
    "cameraFront = glm.vec3(0.0,  0.0, -1.0);\n",
    "cameraUp    = glm.vec3(0.0,  1.0,  0.0);\n",
    "\n",
    "\n",
    "polygonal_mode = False\n",
    "\n",
    "def key_event(window,key,scancode,action,mods):\n",
    "    global cameraPos, cameraFront, cameraUp, polygonal_mode\n",
    "    cameraSpeed = 0.8\n",
    "    if key == 87 and (action==1 or action==2): # tecla W\n",
    "        cameraPos += cameraSpeed * cameraFront\n",
    "    if key == 83 and (action==1 or action==2): # tecla S\n",
    "        cameraPos -= cameraSpeed * cameraFront\n",
    "    if key == 65 and (action==1 or action==2): # tecla A\n",
    "        cameraPos -= glm.normalize(glm.cross(cameraFront, cameraUp)) * cameraSpeed\n",
    "    if key == 68 and (action==1 or action==2): # tecla D\n",
    "        cameraPos += glm.normalize(glm.cross(cameraFront, cameraUp)) * cameraSpeed\n",
    "    if key == 32 and (action==1 or action==2): # tecla espaço\n",
    "        cameraPos += cameraSpeed * cameraUp\n",
    "    if key == 90 and (action==1 or action==2): # tecla S\n",
    "        cameraPos -= cameraSpeed * cameraUp\n",
    "    if key == 80 and action==1 and polygonal_mode==True:\n",
    "        polygonal_mode=False\n",
    "    else:\n",
    "        if key == 80 and action==1 and polygonal_mode==False:\n",
    "            polygonal_mode=True\n",
    "        \n",
    "firstMouse = True\n",
    "yaw = -90.0 \n",
    "pitch = 0.0\n",
    "lastX =  largura/2\n",
    "lastY =  altura/2\n",
    "\n",
    "def mouse_event(window, xpos, ypos):\n",
    "    global firstMouse, cameraFront, yaw, pitch, lastX, lastY\n",
    "    if firstMouse:\n",
    "        lastX = xpos\n",
    "        lastY = ypos\n",
    "        firstMouse = False\n",
    "\n",
    "    xoffset = xpos - lastX\n",
    "    yoffset = lastY - ypos\n",
    "    lastX = xpos\n",
    "    lastY = ypos\n",
    "    sensitivity = 0.3 \n",
    "    xoffset *= sensitivity\n",
    "    yoffset *= sensitivity\n",
    "\n",
    "    yaw += xoffset;\n",
    "    pitch += yoffset;\n",
    "    if pitch >= 90.0: pitch = 90.0\n",
    "    if pitch <= -90.0: pitch = -90.0\n",
    "    front = glm.vec3()\n",
    "    front.x = math.cos(glm.radians(yaw)) * math.cos(glm.radians(pitch))\n",
    "    front.y = math.sin(glm.radians(pitch))\n",
    "    front.z = math.sin(glm.radians(yaw)) * math.cos(glm.radians(pitch))\n",
    "    cameraFront = glm.normalize(front)\n",
    "    \n",
    "glfw.set_key_callback(window,key_event)\n",
    "glfw.set_cursor_pos_callback(window, mouse_event)"
   ]
  },
  {
   "cell_type": "markdown",
   "metadata": {},
   "source": [
    "### Matrizes Model, View e Projection\n",
    "\n",
    "Teremos uma aula específica para entender o seu funcionamento."
   ]
  },
  {
   "cell_type": "code",
   "execution_count": 45,
   "metadata": {
    "ExecuteTime": {
     "end_time": "2020-07-11T23:54:39.604259Z",
     "start_time": "2020-07-11T23:54:39.595427Z"
    }
   },
   "outputs": [],
   "source": [
    "def model(angle, r_x, r_y, r_z, t_x, t_y, t_z, s_x, s_y, s_z):\n",
    "    angle = math.radians(angle)\n",
    "    matrix_transform = glm.mat4(1.0) # instanciando uma matriz identidade\n",
    "    # aplicando translacao\n",
    "    matrix_transform = glm.translate(matrix_transform, glm.vec3(t_x, t_y, t_z)) \n",
    "    # aplicando rotacao\n",
    "    matrix_transform = glm.rotate(matrix_transform, angle, glm.vec3(r_x, r_y, r_z))\n",
    "    # aplicando escala\n",
    "    matrix_transform = glm.scale(matrix_transform, glm.vec3(s_x, s_y, s_z)) \n",
    "    matrix_transform = np.array(matrix_transform).T # pegando a transposta da matriz (glm trabalha com ela invertida)\n",
    "    return matrix_transform\n",
    "\n",
    "def view():\n",
    "    global cameraPos, cameraFront, cameraUp\n",
    "    mat_view = glm.lookAt(cameraPos, cameraPos + cameraFront, cameraUp);\n",
    "    mat_view = np.array(mat_view)\n",
    "    return mat_view\n",
    "\n",
    "def projection():\n",
    "    global altura, largura\n",
    "    # perspective parameters: fovy, aspect, near, far\n",
    "    mat_projection = glm.perspective(glm.radians(100.0), largura/altura, 0.01, 2000.0)\n",
    "    mat_projection = np.array(mat_projection)    \n",
    "    return mat_projection"
   ]
  },
  {
   "cell_type": "markdown",
   "metadata": {},
   "source": [
    "### Nesse momento, nós exibimos a janela!\n"
   ]
  },
  {
   "cell_type": "code",
   "execution_count": 46,
   "metadata": {
    "ExecuteTime": {
     "end_time": "2020-07-11T23:54:39.613982Z",
     "start_time": "2020-07-11T23:54:39.605285Z"
    }
   },
   "outputs": [],
   "source": [
    "glfw.show_window(window)\n",
    "glfw.set_cursor_pos(window, lastX, lastY)"
   ]
  },
  {
   "cell_type": "markdown",
   "metadata": {},
   "source": [
    "### Loop principal da janela.\n",
    "Enquanto a janela não for fechada, esse laço será executado. É neste espaço que trabalhamos com algumas interações com a OpenGL."
   ]
  },
  {
   "cell_type": "code",
   "execution_count": 47,
   "metadata": {
    "ExecuteTime": {
     "end_time": "2020-07-11T23:55:06.555957Z",
     "start_time": "2020-07-11T23:54:39.615604Z"
    }
   },
   "outputs": [],
   "source": [
    "glEnable(GL_DEPTH_TEST) ### importante para 3D\n",
    "\n",
    "z_carro1 = 30\n",
    "z_carro2 = 0\n",
    "count = 0\n",
    "\n",
    "while not glfw.window_should_close(window):\n",
    "    glfw.poll_events() \n",
    "    count += 0.1\n",
    "    glClear(GL_COLOR_BUFFER_BIT | GL_DEPTH_BUFFER_BIT)\n",
    "    \n",
    "    glClearColor(1.0, 1.0, 1.0, 1.0)\n",
    "    \n",
    "    #controla e aplica o estado do modo poligonal\n",
    "    if polygonal_mode==True:\n",
    "        glPolygonMode(GL_FRONT_AND_BACK,GL_LINE)\n",
    "    if polygonal_mode==False:\n",
    "        glPolygonMode(GL_FRONT_AND_BACK,GL_FILL)\n",
    "    \n",
    "    #verificação pra câmera não sair do cenário\n",
    "    if(abs(cameraPos[0])>40):\n",
    "        cameraPos[0] = 40*cameraPos[0]/abs(cameraPos[0])\n",
    "    if(abs(cameraPos[2])>80):\n",
    "        cameraPos[2] = 80*cameraPos[2]/abs(cameraPos[2])\n",
    "    \n",
    "    #verificação pra câmera não passar do chão\n",
    "    if(cameraPos[1] < 4.0):\n",
    "        cameraPos[1] = 4.0\n",
    "    \n",
    "    #verificação pra câmera não sair da esfera que forma o céu\n",
    "    x = cameraPos[0]\n",
    "    y = cameraPos[1]\n",
    "    z = cameraPos[2]\n",
    "    if((x/500)**2+((y+10)/500)**2+(z/500)**2 > 1):\n",
    "        cameraPos = glm.vec3(0.0,  4.0,  1.0);\n",
    "\n",
    "    #movimentação dos carros\n",
    "    z_carro1 += 40/60.0\n",
    "    if(z_carro1 > 80):\n",
    "        z_carro1 = -80\n",
    "    z_carro2 += 40/60.0\n",
    "    if(z_carro2 > 80):\n",
    "        z_carro2 = -80\n",
    "\n",
    "    #desenhando todos os objetos do cenário:\n",
    "    #algumas funções de desenho estão com argumentos para facilitar ajustes\n",
    "    desenha_chao_infinito()\n",
    "    desenha_chao()\n",
    "    desenha_casa()\n",
    "    desenha_arvore()\n",
    "    desenha_skybox()\n",
    "    desenha_escrivaninha(-23.0,2.0,-8.8)\n",
    "    desenha_sofa(-16,2,10)\n",
    "    #desenha_sofa(10*np.sin(3*count),3,10*np.cos(3*count))\n",
    "    desenha_televisao()\n",
    "    desenha_carro1(3,0.1,-z_carro1)\n",
    "    desenha_carro2(3,0.1,-z_carro2)\n",
    "    desenha_fogueira()\n",
    "    desenha_poco()\n",
    "    desenha_luz(300*np.sin(count/30), 300,300*np.cos(count/30))\n",
    "    desenha_luz(-19,6.0,0)\n",
    "    #adicionar outra fonte de luz\n",
    "        \n",
    "        \n",
    "    mat_view = view()\n",
    "    loc_view = glGetUniformLocation(program, \"view\")\n",
    "    glUniformMatrix4fv(loc_view, 1, GL_FALSE, mat_view)\n",
    "\n",
    "    mat_projection = projection()\n",
    "    loc_projection = glGetUniformLocation(program, \"projection\")\n",
    "    glUniformMatrix4fv(loc_projection, 1, GL_FALSE, mat_projection)\n",
    "    \n",
    "    # atualizando a posicao da camera/observador na GPU para calculo da reflexao especular\n",
    "    loc_view_pos = glGetUniformLocation(program, \"viewPos\") # recuperando localizacao da variavel viewPos na GPU\n",
    "    glUniform3f(loc_view_pos, cameraPos[0], cameraPos[1], cameraPos[2]) ### posicao da camera/observador (x,y,z)\n",
    "    \n",
    "    glfw.swap_buffers(window)\n",
    "\n",
    "glfw.terminate()"
   ]
  },
  {
   "cell_type": "code",
   "execution_count": null,
   "metadata": {},
   "outputs": [],
   "source": []
  },
  {
   "cell_type": "code",
   "execution_count": null,
   "metadata": {},
   "outputs": [],
   "source": []
  },
  {
   "cell_type": "code",
   "execution_count": null,
   "metadata": {},
   "outputs": [],
   "source": []
  }
 ],
 "metadata": {
  "finalized": {
   "timestamp": 1589232864147,
   "trusted": true
  },
  "kernelspec": {
   "display_name": "Python 3",
   "language": "python",
   "name": "python3"
  },
  "language_info": {
   "codemirror_mode": {
    "name": "ipython",
    "version": 3
   },
   "file_extension": ".py",
   "mimetype": "text/x-python",
   "name": "python",
   "nbconvert_exporter": "python",
   "pygments_lexer": "ipython3",
   "version": "3.7.6"
  }
 },
 "nbformat": 4,
 "nbformat_minor": 2
}
