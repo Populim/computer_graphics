{
 "cells": [
  {
   "cell_type": "markdown",
   "metadata": {},
   "source": [
    "# TRABALHO 2 - Cenário 3D\n",
    "\n"
   ]
  },
  {
   "cell_type": "markdown",
   "metadata": {},
   "source": [
    " \n",
    "## Matheus Steigenberg Populim - 1073470\n",
    "## Vinicius Finke Raiter José - 9791052"
   ]
  },
  {
   "cell_type": "markdown",
   "metadata": {},
   "source": [
    "Vídeo: https://youtu.be/h1L8l9aoASs<br>\n",
    "\n",
    "Modelos utilizados: https://drive.google.com/file/d/1DRev6NTqxv_lBBEaODuzpuP9oZeFHzja/view?usp=sharing <br>"
   ]
  },
  {
   "cell_type": "markdown",
   "metadata": {},
   "source": [
    "### Primeiro, vamos importar as bibliotecas necessárias.\n",
    "Verifique no código anterior um script para instalar as dependências necessárias (OpenGL e GLFW) antes de prosseguir."
   ]
  },
  {
   "cell_type": "code",
   "execution_count": 1,
   "metadata": {
    "ExecuteTime": {
     "end_time": "2020-06-07T16:33:19.950030Z",
     "start_time": "2020-06-07T16:33:19.762458Z"
    }
   },
   "outputs": [],
   "source": [
    "import glfw\n",
    "from OpenGL.GL import *\n",
    "import OpenGL.GL.shaders\n",
    "import numpy as np\n",
    "import glm\n",
    "import math\n",
    "from PIL import Image"
   ]
  },
  {
   "cell_type": "markdown",
   "metadata": {},
   "source": [
    "### Inicializando janela"
   ]
  },
  {
   "cell_type": "markdown",
   "metadata": {},
   "source": [
    "# altura = 900 largura = 1600 <br>\n",
    "## mude se não for o valor do seu monitor"
   ]
  },
  {
   "cell_type": "code",
   "execution_count": 2,
   "metadata": {
    "ExecuteTime": {
     "end_time": "2020-06-07T16:33:20.212868Z",
     "start_time": "2020-06-07T16:33:19.951355Z"
    }
   },
   "outputs": [],
   "source": [
    "glfw.init()\n",
    "glfw.window_hint(glfw.VISIBLE, glfw.TRUE);\n",
    "glfw.window_hint(glfw.RESIZABLE, glfw.TRUE);\n",
    "glfw.window_hint(glfw.CENTER_CURSOR, glfw.TRUE);\n",
    "#glfw.window_hint(glfw.VISIBLE, glfw.TRUE,glfw.CENTER_CURSOR);\n",
    "largura = 1600\n",
    "altura = 900\n",
    "window = glfw.create_window(largura, altura, \"Malhas e Texturas\", glfw.get_primary_monitor(), None)\n",
    "glfw.make_context_current(window)\n",
    "\n",
    "glfw.set_input_mode(window, glfw.CURSOR, glfw.CURSOR_DISABLED);\n"
   ]
  },
  {
   "cell_type": "markdown",
   "metadata": {},
   "source": [
    "### GLSL (OpenGL Shading Language)\n",
    "\n",
    "Aqui veremos nosso primeiro código GLSL.\n",
    "\n",
    "É uma linguagem de shading de alto nível baseada na linguagem de programação C.\n",
    "\n",
    "Nós estamos escrevendo código GLSL como se \"strings\" de uma variável (mas podemos ler de arquivos texto). Esse código, depois, terá que ser compilado e linkado ao nosso programa. \n",
    "\n",
    "Iremos aprender GLSL conforme a necessidade do curso. Usarmos uma versão do GLSL mais antiga, compatível com muitos dispositivos."
   ]
  },
  {
   "cell_type": "markdown",
   "metadata": {},
   "source": [
    "### GLSL para Vertex Shader\n",
    "\n",
    "No Pipeline programável, podemos interagir com Vertex Shaders.\n",
    "\n",
    "No código abaixo, estamos fazendo o seguinte:\n",
    "\n",
    "* Definindo uma variável chamada position do tipo vec3.\n",
    "* Definindo matrizes Model, View e Projection que acumulam transformações geométricas 3D e permitem navegação no cenário.\n",
    "* void main() é o ponto de entrada do nosso programa (função principal)\n",
    "* gl_Position é uma variável especial do GLSL. Variáveis que começam com 'gl_' são desse tipo. Nesse caso, determina a posição de um vértice. Observe que todo vértice tem 4 coordenadas, por isso nós combinamos nossa variável vec2 com uma variável vec4. Além disso, nós modificamos nosso vetor com base nas transformações Model, View e Projection."
   ]
  },
  {
   "cell_type": "code",
   "execution_count": 3,
   "metadata": {
    "ExecuteTime": {
     "end_time": "2020-06-07T16:33:20.217275Z",
     "start_time": "2020-06-07T16:33:20.215011Z"
    }
   },
   "outputs": [],
   "source": [
    "vertex_code = \"\"\"\n",
    "        attribute vec3 position;\n",
    "        attribute vec2 texture_coord;\n",
    "        varying vec2 out_texture;\n",
    "                \n",
    "        uniform mat4 model;\n",
    "        uniform mat4 view;\n",
    "        uniform mat4 projection;        \n",
    "        \n",
    "        void main(){\n",
    "            gl_Position = projection * view * model * vec4(position,1.0);\n",
    "            out_texture = vec2(texture_coord);\n",
    "        }\n",
    "        \"\"\""
   ]
  },
  {
   "cell_type": "markdown",
   "metadata": {},
   "source": [
    "### GLSL para Fragment Shader\n",
    "\n",
    "No Pipeline programável, podemos interagir com Fragment Shaders.\n",
    "\n",
    "No código abaixo, estamos fazendo o seguinte:\n",
    "\n",
    "* void main() é o ponto de entrada do nosso programa (função principal)\n",
    "* gl_FragColor é uma variável especial do GLSL. Variáveis que começam com 'gl_' são desse tipo. Nesse caso, determina a cor de um fragmento. Nesse caso é um ponto, mas poderia ser outro objeto (ponto, linha, triangulos, etc)."
   ]
  },
  {
   "cell_type": "markdown",
   "metadata": {},
   "source": [
    "### Possibilitando modificar a cor.\n",
    "\n",
    "Nos exemplos anteriores, a variável gl_FragColor estava definida de forma fixa (com cor R=0, G=0, B=0).\n",
    "\n",
    "Agora, nós vamos criar uma variável do tipo \"uniform\", de quatro posições (vec4), para receber o dado de cor do nosso programa rodando em CPU."
   ]
  },
  {
   "cell_type": "code",
   "execution_count": 4,
   "metadata": {
    "ExecuteTime": {
     "end_time": "2020-06-07T16:33:20.225027Z",
     "start_time": "2020-06-07T16:33:20.218441Z"
    }
   },
   "outputs": [],
   "source": [
    "fragment_code = \"\"\"\n",
    "        uniform vec4 color;\n",
    "        varying vec2 out_texture;\n",
    "        uniform sampler2D samplerTexture;\n",
    "        \n",
    "        void main(){\n",
    "            vec4 texture = texture2D(samplerTexture, out_texture);\n",
    "            gl_FragColor = texture;\n",
    "        }\n",
    "        \"\"\""
   ]
  },
  {
   "cell_type": "markdown",
   "metadata": {},
   "source": [
    "### Requisitando slot para a GPU para nossos programas Vertex e Fragment Shaders"
   ]
  },
  {
   "cell_type": "code",
   "execution_count": 5,
   "metadata": {
    "ExecuteTime": {
     "end_time": "2020-06-07T16:33:20.232514Z",
     "start_time": "2020-06-07T16:33:20.226287Z"
    }
   },
   "outputs": [],
   "source": [
    "# Request a program and shader slots from GPU\n",
    "program  = glCreateProgram()\n",
    "vertex   = glCreateShader(GL_VERTEX_SHADER)\n",
    "fragment = glCreateShader(GL_FRAGMENT_SHADER)\n"
   ]
  },
  {
   "cell_type": "markdown",
   "metadata": {},
   "source": [
    "### Associando nosso código-fonte aos slots solicitados"
   ]
  },
  {
   "cell_type": "code",
   "execution_count": 6,
   "metadata": {
    "ExecuteTime": {
     "end_time": "2020-06-07T16:33:20.240283Z",
     "start_time": "2020-06-07T16:33:20.233942Z"
    }
   },
   "outputs": [],
   "source": [
    "# Set shaders source\n",
    "glShaderSource(vertex, vertex_code)\n",
    "glShaderSource(fragment, fragment_code)"
   ]
  },
  {
   "cell_type": "markdown",
   "metadata": {},
   "source": [
    "### Compilando o Vertex Shader\n",
    "\n",
    "Se há algum erro em nosso programa Vertex Shader, nosso app para por aqui."
   ]
  },
  {
   "cell_type": "code",
   "execution_count": 7,
   "metadata": {
    "ExecuteTime": {
     "end_time": "2020-06-07T16:33:20.247977Z",
     "start_time": "2020-06-07T16:33:20.241274Z"
    }
   },
   "outputs": [],
   "source": [
    "# Compile shaders\n",
    "glCompileShader(vertex)\n",
    "if not glGetShaderiv(vertex, GL_COMPILE_STATUS):\n",
    "    error = glGetShaderInfoLog(vertex).decode()\n",
    "    print(error)\n",
    "    raise RuntimeError(\"Erro de compilacao do Vertex Shader\")\n"
   ]
  },
  {
   "cell_type": "markdown",
   "metadata": {},
   "source": [
    "### Compilando o Fragment Shader\n",
    "\n",
    "Se há algum erro em nosso programa Fragment Shader, nosso app para por aqui."
   ]
  },
  {
   "cell_type": "code",
   "execution_count": 8,
   "metadata": {
    "ExecuteTime": {
     "end_time": "2020-06-07T16:33:20.254347Z",
     "start_time": "2020-06-07T16:33:20.249972Z"
    }
   },
   "outputs": [],
   "source": [
    "glCompileShader(fragment)\n",
    "if not glGetShaderiv(fragment, GL_COMPILE_STATUS):\n",
    "    error = glGetShaderInfoLog(fragment).decode()\n",
    "    print(error)\n",
    "    raise RuntimeError(\"Erro de compilacao do Fragment Shader\")"
   ]
  },
  {
   "cell_type": "markdown",
   "metadata": {},
   "source": [
    "### Associando os programas compilado ao programa principal"
   ]
  },
  {
   "cell_type": "code",
   "execution_count": 9,
   "metadata": {
    "ExecuteTime": {
     "end_time": "2020-06-07T16:33:20.262047Z",
     "start_time": "2020-06-07T16:33:20.255589Z"
    }
   },
   "outputs": [],
   "source": [
    "# Attach shader objects to the program\n",
    "glAttachShader(program, vertex)\n",
    "glAttachShader(program, fragment)\n"
   ]
  },
  {
   "cell_type": "markdown",
   "metadata": {},
   "source": [
    "### Linkagem do programa"
   ]
  },
  {
   "cell_type": "code",
   "execution_count": 10,
   "metadata": {
    "ExecuteTime": {
     "end_time": "2020-06-07T16:33:20.272872Z",
     "start_time": "2020-06-07T16:33:20.263223Z"
    }
   },
   "outputs": [],
   "source": [
    "# Build program\n",
    "glLinkProgram(program)\n",
    "if not glGetProgramiv(program, GL_LINK_STATUS):\n",
    "    print(glGetProgramInfoLog(program))\n",
    "    raise RuntimeError('Linking error')\n",
    "    \n",
    "# Make program the default program\n",
    "glUseProgram(program)"
   ]
  },
  {
   "cell_type": "markdown",
   "metadata": {},
   "source": [
    "### Preparando dados para enviar a GPU\n",
    "\n",
    "Nesse momento, nós compilamos nossos Vertex e Program Shaders para que a GPU possa processá-los.\n",
    "\n",
    "Por outro lado, as informações de vértices geralmente estão na CPU e devem ser transmitidas para a GPU.\n"
   ]
  },
  {
   "cell_type": "markdown",
   "metadata": {},
   "source": [
    "### Carregando Modelos (vértices e texturas) a partir de Arquivos\n",
    "\n",
    "A função abaixo carrega modelos a partir de arquivos no formato WaveFront.\n",
    "\n",
    "\n",
    "Para saber mais sobre o modelo, acesse: https://en.wikipedia.org/wiki/Wavefront_.obj_file\n",
    "\n",
    "\n",
    "Nos slides e vídeo-aula da Aula 11 - Parte 1, nós descrevemos o funcionamento desse formato."
   ]
  },
  {
   "cell_type": "code",
   "execution_count": 11,
   "metadata": {
    "ExecuteTime": {
     "end_time": "2020-06-07T16:33:20.282397Z",
     "start_time": "2020-06-07T16:33:20.273841Z"
    }
   },
   "outputs": [],
   "source": [
    "def load_model_from_file(filename):\n",
    "    \"\"\"Loads a Wavefront OBJ file. \"\"\"\n",
    "    objects = {}\n",
    "    vertices = []\n",
    "    texture_coords = []\n",
    "    faces = []\n",
    "    material = None\n",
    "    # abre o arquivo obj para leitura\n",
    "    for line in open(filename, \"r\"): ## para cada linha do arquivo .obj\n",
    "        if line.startswith('#'): continue ## ignora comentarios\n",
    "        values = line.split() # quebra a linha por espaço\n",
    "        if not values: continue\n",
    "\n",
    "\n",
    "        ### recuperando vertices\n",
    "        if values[0] == 'v':\n",
    "            vertices.append(values[1:4])\n",
    "\n",
    "\n",
    "        ### recuperando coordenadas de textura\n",
    "        elif values[0] == 'vt':\n",
    "            texture_coords.append(values[1:3])\n",
    "\n",
    "        ### recuperando faces \n",
    "        elif values[0] in ('usemtl', 'usemat'):\n",
    "            material = values[1]\n",
    "        elif values[0] == 'f':\n",
    "            face = []\n",
    "            face_texture = []\n",
    "            for v in values[1:]:\n",
    "                w = v.split('/')\n",
    "                face.append(int(w[0]))\n",
    "                if len(w) >= 2 and len(w[1]) > 0:\n",
    "                    face_texture.append(int(w[1]))\n",
    "                else:\n",
    "                    face_texture.append(0)\n",
    "\n",
    "            faces.append((face, face_texture, material))\n",
    "\n",
    "    model = {}\n",
    "    model['vertices'] = vertices\n",
    "    model['texture'] = texture_coords\n",
    "    model['faces'] = faces\n",
    "\n",
    "    return model"
   ]
  },
  {
   "cell_type": "code",
   "execution_count": 12,
   "metadata": {
    "ExecuteTime": {
     "end_time": "2020-06-07T16:33:20.292700Z",
     "start_time": "2020-06-07T16:33:20.283906Z"
    }
   },
   "outputs": [],
   "source": [
    "glHint(GL_LINE_SMOOTH_HINT, GL_DONT_CARE)\n",
    "glEnable( GL_BLEND )\n",
    "glBlendFunc( GL_SRC_ALPHA, GL_ONE_MINUS_SRC_ALPHA )\n",
    "glEnable(GL_LINE_SMOOTH)\n",
    "glEnable(GL_TEXTURE_2D)\n",
    "qtd_texturas = 25\n",
    "textures = glGenTextures(qtd_texturas)\n",
    "def load_texture_from_file(texture_id, img_textura):\n",
    "    glBindTexture(GL_TEXTURE_2D, texture_id)\n",
    "    glTexParameteri(GL_TEXTURE_2D, GL_TEXTURE_WRAP_S, GL_REPEAT)\n",
    "    glTexParameteri(GL_TEXTURE_2D, GL_TEXTURE_WRAP_T, GL_REPEAT)\n",
    "    glTexParameteri(GL_TEXTURE_2D, GL_TEXTURE_MIN_FILTER, GL_LINEAR)\n",
    "    glTexParameteri(GL_TEXTURE_2D, GL_TEXTURE_MAG_FILTER, GL_LINEAR)\n",
    "    img = Image.open(img_textura)\n",
    "    print(img_textura,img.mode)\n",
    "    img_width = img.size[0]\n",
    "    img_height = img.size[1]\n",
    "    #image_data = img.tobytes(\"raw\", \"RGB\", 0, -1)\n",
    "    image_data = img.convert(\"RGBA\").tobytes(\"raw\", \"RGBA\",0,-1)\n",
    "\n",
    "    #image_data = np.array(list(img.getdata()), np.uint8)\n",
    "    glTexImage2D(GL_TEXTURE_2D, 0, GL_RGBA, img_width, img_height, 0, GL_RGBA, GL_UNSIGNED_BYTE, image_data)"
   ]
  },
  {
   "cell_type": "markdown",
   "metadata": {},
   "source": [
    "### A lista abaixo armazena todos os vertices carregados dos arquivos"
   ]
  },
  {
   "cell_type": "code",
   "execution_count": 13,
   "metadata": {
    "ExecuteTime": {
     "end_time": "2020-06-07T16:33:20.301697Z",
     "start_time": "2020-06-07T16:33:20.293709Z"
    }
   },
   "outputs": [],
   "source": [
    "vertices_list = []    \n",
    "textures_coord_list = []"
   ]
  },
  {
   "cell_type": "markdown",
   "metadata": {},
   "source": [
    "### Vamos carregar cada modelo e definir funções para desenhá-los"
   ]
  },
  {
   "cell_type": "markdown",
   "metadata": {},
   "source": [
    "## Terreno"
   ]
  },
  {
   "cell_type": "code",
   "execution_count": 14,
   "metadata": {
    "ExecuteTime": {
     "end_time": "2020-06-07T16:33:20.492290Z",
     "start_time": "2020-06-07T16:33:20.303009Z"
    },
    "scrolled": true
   },
   "outputs": [
    {
     "name": "stdout",
     "output_type": "stream",
     "text": [
      "Processando modelo chao_asfalto_grama.obj. Vertice inicial: 0\n",
      "Material.001  vertice inicial = 0\n",
      "road.002  vertice inicial = 132\n",
      "Processando modelo chao_asfalto_grama.obj. Vertice final: 156\n",
      "modelo/grass1.jpg RGB\n",
      "modelo/road.jpg RGB\n"
     ]
    }
   ],
   "source": [
    "modelo = load_model_from_file('modelo/chao_asfalto_grama.obj')\n",
    "\n",
    "### inserindo vertices do modelo no vetor de vertices\n",
    "print('Processando modelo chao_asfalto_grama.obj. Vertice inicial:',len(vertices_list))\n",
    "faces_visited = []\n",
    "for face in modelo['faces']:\n",
    "    if face[2] not in faces_visited:\n",
    "        print(face[2],' vertice inicial =',len(vertices_list))\n",
    "        faces_visited.append(face[2])\n",
    "    for vertice_id in face[0]:\n",
    "        vertices_list.append( modelo['vertices'][vertice_id-1] )\n",
    "    for texture_id in face[1]:\n",
    "        textures_coord_list.append( modelo['texture'][texture_id-1] )\n",
    "print('Processando modelo chao_asfalto_grama.obj. Vertice final:',len(vertices_list))\n",
    "\n",
    "### inserindo coordenadas de textura do modelo no vetor de texturas\n",
    "\n",
    "\n",
    "### carregando textura equivalente e definindo um id (buffer): use um id por textura!\n",
    "load_texture_from_file(0,'modelo/grass1.jpg')\n",
    "load_texture_from_file(1,'modelo/road.jpg')"
   ]
  },
  {
   "cell_type": "markdown",
   "metadata": {},
   "source": [
    "## Céu"
   ]
  },
  {
   "cell_type": "code",
   "execution_count": 15,
   "metadata": {
    "ExecuteTime": {
     "end_time": "2020-06-07T16:33:20.886287Z",
     "start_time": "2020-06-07T16:33:20.493359Z"
    }
   },
   "outputs": [
    {
     "name": "stdout",
     "output_type": "stream",
     "text": [
      "Processando modelo skybox.obj. Vertice inicial: 156\n",
      "Processando modelo skybox.obj. Vertice final: 34716\n",
      "modelo/sky12.jpg RGB\n"
     ]
    }
   ],
   "source": [
    "modelo = load_model_from_file('modelo/skybox.obj')\n",
    "\n",
    "### inserindo vertices do modelo no vetor de vertices\n",
    "print('Processando modelo skybox.obj. Vertice inicial:',len(vertices_list))\n",
    "for face in modelo['faces']:\n",
    "    for vertice_id in face[0]:\n",
    "        vertices_list.append( modelo['vertices'][vertice_id-1] )\n",
    "    for texture_id in face[1]:\n",
    "        textures_coord_list.append( modelo['texture'][texture_id-1] )\n",
    "print('Processando modelo skybox.obj. Vertice final:',len(vertices_list))\n",
    "\n",
    "### inserindo coordenadas de textura do modelo no vetor de texturas\n",
    "\n",
    "\n",
    "### carregando textura equivalente e definindo um id (buffer): use um id por textura!\n",
    "load_texture_from_file(2,'modelo/sky12.jpg')\n"
   ]
  },
  {
   "cell_type": "markdown",
   "metadata": {},
   "source": [
    "## Casa"
   ]
  },
  {
   "cell_type": "code",
   "execution_count": 16,
   "metadata": {
    "ExecuteTime": {
     "end_time": "2020-06-07T16:33:21.447470Z",
     "start_time": "2020-06-07T16:33:20.887261Z"
    },
    "scrolled": true
   },
   "outputs": [
    {
     "name": "stdout",
     "output_type": "stream",
     "text": [
      "Processando modelo casa.obj. Vertice inicial: 34716\n",
      "Cottage_FREE  vertice inicial = 34716\n",
      "madeira.001  vertice inicial = 47493\n",
      "Processando modelo casa.obj. Vertice final: 47511\n",
      "modelo/textura_casa.png RGB\n",
      "modelo/chaomadeira.jpg RGB\n"
     ]
    }
   ],
   "source": [
    "modelo = load_model_from_file('modelo/casa.obj')\n",
    "\n",
    "### inserindo vertices do modelo no vetor de vertices\n",
    "print('Processando modelo casa.obj. Vertice inicial:',len(vertices_list))\n",
    "faces_visited = []\n",
    "for face in modelo['faces']:\n",
    "    if face[2] not in faces_visited:\n",
    "        print(face[2],' vertice inicial =',len(vertices_list))\n",
    "        faces_visited.append(face[2])\n",
    "    for vertice_id in face[0]:\n",
    "        vertices_list.append( modelo['vertices'][vertice_id-1] )\n",
    "    for texture_id in face[1]:\n",
    "        textures_coord_list.append( modelo['texture'][texture_id-1] )\n",
    "print('Processando modelo casa.obj. Vertice final:',len(vertices_list))\n",
    "\n",
    "### inserindo coordenadas de textura do modelo no vetor de texturas\n",
    "\n",
    "\n",
    "### carregando textura equivalente e definindo um id (buffer): use um id por textura!\n",
    "load_texture_from_file(3,'modelo/textura_casa.png')\n",
    "load_texture_from_file(4,'modelo/chaomadeira.jpg')\n"
   ]
  },
  {
   "cell_type": "markdown",
   "metadata": {},
   "source": [
    "## Sofá"
   ]
  },
  {
   "cell_type": "code",
   "execution_count": 17,
   "metadata": {
    "ExecuteTime": {
     "end_time": "2020-06-07T16:33:21.602864Z",
     "start_time": "2020-06-07T16:33:21.448881Z"
    }
   },
   "outputs": [
    {
     "name": "stdout",
     "output_type": "stream",
     "text": [
      "Processando modelo sofa2.obj. Vertice inicial: 47511\n",
      "Processando modelo sofa2.obj. Vertice final: 97443\n",
      "modelo/sofacor1.png RGBA\n"
     ]
    }
   ],
   "source": [
    "modelo = load_model_from_file('modelo/sofa2.obj')\n",
    "\n",
    "### inserindo vertices do modelo no vetor de vertices\n",
    "print('Processando modelo sofa2.obj. Vertice inicial:',len(vertices_list))\n",
    "for face in modelo['faces']:\n",
    "    for vertice_id in face[0]:\n",
    "        vertices_list.append( modelo['vertices'][vertice_id-1] )\n",
    "    for texture_id in face[1]:\n",
    "        textures_coord_list.append( modelo['texture'][texture_id-1] )\n",
    "print('Processando modelo sofa2.obj. Vertice final:',len(vertices_list))\n",
    "\n",
    "### inserindo coordenadas de textura do modelo no vetor de texturas\n",
    "\n",
    "\n",
    "### carregando textura equivalente e definindo um id (buffer): use um id por textura!\n",
    "load_texture_from_file(5,'modelo/sofacor1.png')"
   ]
  },
  {
   "cell_type": "markdown",
   "metadata": {},
   "source": [
    "## Escrivaninha"
   ]
  },
  {
   "cell_type": "code",
   "execution_count": 18,
   "metadata": {
    "ExecuteTime": {
     "end_time": "2020-06-07T16:33:21.706938Z",
     "start_time": "2020-06-07T16:33:21.604442Z"
    },
    "scrolled": true
   },
   "outputs": [
    {
     "name": "stdout",
     "output_type": "stream",
     "text": [
      "Processando modelo escrivaninha.obj. Vertice inicial: 97443\n",
      "metalizado  vertice inicial = 97443\n",
      "macaneta  vertice inicial = 97935\n",
      "Processando modelo escrivaninha.obj. Vertice final: 98499\n",
      "modelo/madeira1.jpg RGB\n",
      "modelo/handle.jpg RGB\n"
     ]
    }
   ],
   "source": [
    "modelo = load_model_from_file('modelo/escrivaninha.obj')\n",
    "\n",
    "### inserindo vertices do modelo no vetor de vertices\n",
    "print('Processando modelo escrivaninha.obj. Vertice inicial:',len(vertices_list))\n",
    "faces_visited = []\n",
    "for face in modelo['faces']:\n",
    "    if face[2] not in faces_visited:\n",
    "        print(face[2],' vertice inicial =',len(vertices_list))\n",
    "        faces_visited.append(face[2])\n",
    "    for vertice_id in face[0]:\n",
    "        vertices_list.append( modelo['vertices'][vertice_id-1] )\n",
    "    for texture_id in face[1]:\n",
    "        textures_coord_list.append( modelo['texture'][texture_id-1] )\n",
    "print('Processando modelo escrivaninha.obj. Vertice final:',len(vertices_list))\n",
    "\n",
    "### inserindo coordenadas de textura do modelo no vetor de texturas\n",
    "\n",
    "\n",
    "### carregando textura equivalente e definindo um id (buffer): use um id por textura!\n",
    "load_texture_from_file(6,'modelo/madeira1.jpg')\n",
    "load_texture_from_file(7,'modelo/handle.jpg')\n"
   ]
  },
  {
   "cell_type": "markdown",
   "metadata": {},
   "source": [
    "## Televisão"
   ]
  },
  {
   "cell_type": "code",
   "execution_count": 19,
   "metadata": {
    "ExecuteTime": {
     "end_time": "2020-06-07T16:33:21.753908Z",
     "start_time": "2020-06-07T16:33:21.708454Z"
    }
   },
   "outputs": [
    {
     "name": "stdout",
     "output_type": "stream",
     "text": [
      "Processando modelo escrivaninha.obj. Vertice inicial: 98499\n",
      "Material.003  vertice inicial = 98499\n",
      "Material.001  vertice inicial = 104091\n",
      "Processando modelo televisao.obj. Vertice final: 104103\n",
      "modelo/black.png RGB\n",
      "modelo/william.jpg RGB\n"
     ]
    }
   ],
   "source": [
    "modelo = load_model_from_file('modelo/televisao.obj')\n",
    "\n",
    "### inserindo vertices do modelo no vetor de vertices\n",
    "print('Processando modelo escrivaninha.obj. Vertice inicial:',len(vertices_list))\n",
    "faces_visited = []\n",
    "for face in modelo['faces']:\n",
    "    if face[2] not in faces_visited:\n",
    "        print(face[2],' vertice inicial =',len(vertices_list))\n",
    "        faces_visited.append(face[2])\n",
    "    for vertice_id in face[0]:\n",
    "        vertices_list.append( modelo['vertices'][vertice_id-1] )\n",
    "    for texture_id in face[1]:\n",
    "        textures_coord_list.append( modelo['texture'][texture_id-1] )\n",
    "print('Processando modelo televisao.obj. Vertice final:',len(vertices_list))\n",
    "\n",
    "### inserindo coordenadas de textura do modelo no vetor de texturas\n",
    "### carregando textura equivalente e definindo um id (buffer): use um id por textura!\n",
    "load_texture_from_file(8,'modelo/black.png')\n",
    "load_texture_from_file(9,'modelo/william.jpg')"
   ]
  },
  {
   "cell_type": "markdown",
   "metadata": {},
   "source": [
    "## Carro"
   ]
  },
  {
   "cell_type": "code",
   "execution_count": 20,
   "metadata": {
    "ExecuteTime": {
     "end_time": "2020-06-07T16:33:21.801714Z",
     "start_time": "2020-06-07T16:33:21.755145Z"
    }
   },
   "outputs": [
    {
     "name": "stdout",
     "output_type": "stream",
     "text": [
      "Processando modelo carro1.obj. Vertice inicial: 104103\n",
      "Processando modelo carro1.obj. Vertice final: 115497\n",
      "modelo/car1.png RGB\n"
     ]
    }
   ],
   "source": [
    "modelo = load_model_from_file('modelo/carro1.obj')\n",
    "\n",
    "### inserindo vertices do modelo no vetor de vertices\n",
    "print('Processando modelo carro1.obj. Vertice inicial:',len(vertices_list))\n",
    "for face in modelo['faces']:\n",
    "    for vertice_id in face[0]:\n",
    "        vertices_list.append( modelo['vertices'][vertice_id-1] )\n",
    "    for texture_id in face[1]:\n",
    "        textures_coord_list.append( modelo['texture'][texture_id-1] )\n",
    "print('Processando modelo carro1.obj. Vertice final:',len(vertices_list))\n",
    "\n",
    "### inserindo coordenadas de textura do modelo no vetor de texturas\n",
    "\n",
    "\n",
    "### carregando textura equivalente e definindo um id (buffer): use um id por textura!\n",
    "load_texture_from_file(10,'modelo/car1.png')\n"
   ]
  },
  {
   "cell_type": "markdown",
   "metadata": {},
   "source": [
    "## Carro de Polícia"
   ]
  },
  {
   "cell_type": "code",
   "execution_count": 21,
   "metadata": {
    "ExecuteTime": {
     "end_time": "2020-06-07T16:33:21.844204Z",
     "start_time": "2020-06-07T16:33:21.802789Z"
    }
   },
   "outputs": [
    {
     "name": "stdout",
     "output_type": "stream",
     "text": [
      "Processando modelo carro2.obj. Vertice inicial: 115497\n",
      "Processando modelo carro2.obj. Vertice final: 131229\n",
      "modelo/car2.png RGB\n"
     ]
    }
   ],
   "source": [
    "modelo = load_model_from_file('modelo/carro2.obj')\n",
    "\n",
    "### inserindo vertices do modelo no vetor de vertices\n",
    "print('Processando modelo carro2.obj. Vertice inicial:',len(vertices_list))\n",
    "for face in modelo['faces']:\n",
    "    for vertice_id in face[0]:\n",
    "        vertices_list.append( modelo['vertices'][vertice_id-1] )\n",
    "    for texture_id in face[1]:\n",
    "        textures_coord_list.append( modelo['texture'][texture_id-1] )\n",
    "print('Processando modelo carro2.obj. Vertice final:',len(vertices_list))\n",
    "\n",
    "### inserindo coordenadas de textura do modelo no vetor de texturas\n",
    "\n",
    "\n",
    "### carregando textura equivalente e definindo um id (buffer): use um id por textura!\n",
    "load_texture_from_file(11,'modelo/car2.png')\n"
   ]
  },
  {
   "cell_type": "markdown",
   "metadata": {},
   "source": [
    "## Árvore"
   ]
  },
  {
   "cell_type": "code",
   "execution_count": 22,
   "metadata": {
    "ExecuteTime": {
     "end_time": "2020-06-07T16:33:22.068560Z",
     "start_time": "2020-06-07T16:33:21.845261Z"
    }
   },
   "outputs": [
    {
     "name": "stdout",
     "output_type": "stream",
     "text": [
      "Processando modelo arvore.obj. Vertice inicial: 131229\n",
      "Trank_bark  vertice inicial = 131229\n",
      "polySurface1SG1  vertice inicial = 151491\n",
      "Processando modelo arvore.obj. Vertice final: 172401\n",
      "modelo/bark_0021.jpg RGB\n",
      "modelo/DB2X2_L01.png RGBA\n"
     ]
    }
   ],
   "source": [
    "modelo = load_model_from_file('modelo/arvore.obj')\n",
    "\n",
    "### inserindo vertices do modelo no vetor de vertices\n",
    "print('Processando modelo arvore.obj. Vertice inicial:',len(vertices_list))\n",
    "faces_visited = []\n",
    "for face in modelo['faces']:\n",
    "    if face[2] not in faces_visited:\n",
    "        print(face[2],' vertice inicial =',len(vertices_list))\n",
    "        faces_visited.append(face[2])\n",
    "    for vertice_id in face[0]:\n",
    "        vertices_list.append( modelo['vertices'][vertice_id-1] )\n",
    "    for texture_id in face[1]:\n",
    "        textures_coord_list.append( modelo['texture'][texture_id-1] )\n",
    "print('Processando modelo arvore.obj. Vertice final:',len(vertices_list))\n",
    "\n",
    "### inserindo coordenadas de textura do modelo no vetor de texturas\n",
    "\n",
    "\n",
    "### carregando textura equivalente e definindo um id (buffer): use um id por textura!\n",
    "load_texture_from_file(12,'modelo/bark_0021.jpg')\n",
    "load_texture_from_file(13,'modelo/DB2X2_L01.png')\n"
   ]
  },
  {
   "cell_type": "markdown",
   "metadata": {},
   "source": [
    "## Fogueira\n"
   ]
  },
  {
   "cell_type": "code",
   "execution_count": 23,
   "metadata": {
    "ExecuteTime": {
     "end_time": "2020-06-07T16:33:22.537056Z",
     "start_time": "2020-06-07T16:33:22.071085Z"
    }
   },
   "outputs": [
    {
     "name": "stdout",
     "output_type": "stream",
     "text": [
      "Processando modelo fogueira.obj. Vertice inicial: 172401\n",
      "Campfire_Maya_2016:phongE3SG  vertice inicial = 172401\n",
      "phongE3SG  vertice inicial = 180039\n",
      "phongE1SG  vertice inicial = 186747\n",
      "phongE4SG  vertice inicial = 192303\n",
      "Processando modelo fogueira.obj. Vertice final: 205347\n",
      "modelo/camp_diffuse.jpg RGB\n",
      "modelo/woodsground_diffuse.jpg RGB\n",
      "modelo/rocks_diffuse.jpg RGB\n",
      "modelo/utensilrope_diffuse.jpg RGB\n"
     ]
    }
   ],
   "source": [
    "modelo = load_model_from_file('modelo/fogueira.obj')\n",
    "\n",
    "### inserindo vertices do modelo no vetor de vertices\n",
    "print('Processando modelo fogueira.obj. Vertice inicial:',len(vertices_list))\n",
    "faces_visited = []\n",
    "for face in modelo['faces']:\n",
    "    if face[2] not in faces_visited:\n",
    "        print(face[2],' vertice inicial =',len(vertices_list))\n",
    "        faces_visited.append(face[2])\n",
    "    for vertice_id in face[0]:\n",
    "        vertices_list.append( modelo['vertices'][vertice_id-1] )\n",
    "    for texture_id in face[1]:\n",
    "        textures_coord_list.append( modelo['texture'][texture_id-1] )\n",
    "print('Processando modelo fogueira.obj. Vertice final:',len(vertices_list))\n",
    "\n",
    "load_texture_from_file(14,'modelo/camp_diffuse.jpg')\n",
    "load_texture_from_file(15,'modelo/woodsground_diffuse.jpg')\n",
    "load_texture_from_file(16,'modelo/rocks_diffuse.jpg')\n",
    "load_texture_from_file(17,'modelo/utensilrope_diffuse.jpg')"
   ]
  },
  {
   "cell_type": "markdown",
   "metadata": {},
   "source": [
    "## Chão \"Infinito\""
   ]
  },
  {
   "cell_type": "code",
   "execution_count": 24,
   "metadata": {
    "ExecuteTime": {
     "end_time": "2020-06-07T16:33:22.671678Z",
     "start_time": "2020-06-07T16:33:22.538515Z"
    }
   },
   "outputs": [
    {
     "name": "stdout",
     "output_type": "stream",
     "text": [
      "Processando modelo chao_infinito.obj. Vertice inicial: 205347\n",
      "Material.002  vertice inicial = 205347\n",
      "Processando modelo chao_infinito.obj. Vertice final: 205383\n",
      "modelo/grass1.jpg RGB\n"
     ]
    }
   ],
   "source": [
    "modelo = load_model_from_file('modelo/chao_infinito.obj')\n",
    "\n",
    "### inserindo vertices do modelo no vetor de vertices\n",
    "print('Processando modelo chao_infinito.obj. Vertice inicial:',len(vertices_list))\n",
    "faces_visited = []\n",
    "for face in modelo['faces']:\n",
    "    if face[2] not in faces_visited:\n",
    "        print(face[2],' vertice inicial =',len(vertices_list))\n",
    "        faces_visited.append(face[2])\n",
    "    for vertice_id in face[0]:\n",
    "        vertices_list.append( modelo['vertices'][vertice_id-1] )\n",
    "    for texture_id in face[1]:\n",
    "        textures_coord_list.append( modelo['texture'][texture_id-1] )\n",
    "print('Processando modelo chao_infinito.obj. Vertice final:',len(vertices_list))\n",
    "\n",
    "load_texture_from_file(18,'modelo/grass1.jpg')\n"
   ]
  },
  {
   "cell_type": "markdown",
   "metadata": {},
   "source": [
    "## Poço"
   ]
  },
  {
   "cell_type": "code",
   "execution_count": 25,
   "metadata": {
    "ExecuteTime": {
     "end_time": "2020-06-07T16:33:23.098155Z",
     "start_time": "2020-06-07T16:33:22.673154Z"
    }
   },
   "outputs": [
    {
     "name": "stdout",
     "output_type": "stream",
     "text": [
      "Processando modelo well_blender.obj. Vertice inicial: 205383\n",
      "well_lower_texture  vertice inicial = 205383\n",
      "well_middle_texture  vertice inicial = 208857\n",
      "well_roof_texture  vertice inicial = 210681\n",
      "Processando modelo well_blender.obj. Vertice final: 211161\n",
      "modelo/well_lower_diffuse.png RGB\n",
      "modelo/well_middle_diffuse.png RGBA\n",
      "modelo/well_roof_diffuse.png RGB\n"
     ]
    }
   ],
   "source": [
    "modelo = load_model_from_file('modelo/well_blender.obj')\n",
    "\n",
    "### inserindo vertices do modelo no vetor de vertices\n",
    "print('Processando modelo well_blender.obj. Vertice inicial:',len(vertices_list))\n",
    "faces_visited = []\n",
    "for face in modelo['faces']:\n",
    "    if face[2] not in faces_visited:\n",
    "        print(face[2],' vertice inicial =',len(vertices_list))\n",
    "        faces_visited.append(face[2])\n",
    "    for vertice_id in face[0]:\n",
    "        vertices_list.append( modelo['vertices'][vertice_id-1] )\n",
    "    for texture_id in face[1]:\n",
    "        textures_coord_list.append( modelo['texture'][texture_id-1] )\n",
    "print('Processando modelo well_blender.obj. Vertice final:',len(vertices_list))\n",
    "\n",
    "load_texture_from_file(19,'modelo/well_lower_diffuse.png')\n",
    "load_texture_from_file(20,'modelo/well_middle_diffuse.png')\n",
    "load_texture_from_file(21,'modelo/well_roof_diffuse.png')"
   ]
  },
  {
   "cell_type": "markdown",
   "metadata": {},
   "source": [
    "### Para enviar nossos dados da CPU para a GPU, precisamos requisitar slots.\n",
    "\n",
    "Nós agora vamos requisitar dois slots.\n",
    "* Um para enviar coordenadas dos vértices.\n",
    "* Outros para enviar coordenadas de texturas."
   ]
  },
  {
   "cell_type": "code",
   "execution_count": 26,
   "metadata": {
    "ExecuteTime": {
     "end_time": "2020-06-07T16:33:23.102405Z",
     "start_time": "2020-06-07T16:33:23.099506Z"
    }
   },
   "outputs": [],
   "source": [
    "# Request a buffer slot from GPU\n",
    "buffer = glGenBuffers(2)\n"
   ]
  },
  {
   "cell_type": "markdown",
   "metadata": {},
   "source": [
    "###  Enviando coordenadas de vértices para a GPU"
   ]
  },
  {
   "cell_type": "code",
   "execution_count": 27,
   "metadata": {
    "ExecuteTime": {
     "end_time": "2020-06-07T16:33:23.235989Z",
     "start_time": "2020-06-07T16:33:23.103733Z"
    }
   },
   "outputs": [],
   "source": [
    "vertices = np.zeros(len(vertices_list), [(\"position\", np.float32, 3)])\n",
    "vertices['position'] = vertices_list\n",
    "\n",
    "\n",
    "# Upload data\n",
    "glBindBuffer(GL_ARRAY_BUFFER, buffer[0])\n",
    "glBufferData(GL_ARRAY_BUFFER, vertices.nbytes, vertices, GL_STATIC_DRAW)\n",
    "stride = vertices.strides[0]\n",
    "offset = ctypes.c_void_p(0)\n",
    "loc_vertices = glGetAttribLocation(program, \"position\")\n",
    "glEnableVertexAttribArray(loc_vertices)\n",
    "glVertexAttribPointer(loc_vertices, 3, GL_FLOAT, False, stride, offset)\n"
   ]
  },
  {
   "cell_type": "markdown",
   "metadata": {},
   "source": [
    "###  Enviando coordenadas de textura para a GPU"
   ]
  },
  {
   "cell_type": "code",
   "execution_count": 28,
   "metadata": {
    "ExecuteTime": {
     "end_time": "2020-06-07T16:33:23.344673Z",
     "start_time": "2020-06-07T16:33:23.237059Z"
    }
   },
   "outputs": [],
   "source": [
    "textures = np.zeros(len(textures_coord_list), [(\"position\", np.float32, 2)]) # duas coordenadas\n",
    "textures['position'] = textures_coord_list\n",
    "\n",
    "\n",
    "# Upload data\n",
    "glBindBuffer(GL_ARRAY_BUFFER, buffer[1])\n",
    "glBufferData(GL_ARRAY_BUFFER, textures.nbytes, textures, GL_STATIC_DRAW)\n",
    "stride = textures.strides[0]\n",
    "offset = ctypes.c_void_p(0)\n",
    "loc_texture_coord = glGetAttribLocation(program, \"texture_coord\")\n",
    "glEnableVertexAttribArray(loc_texture_coord)\n",
    "glVertexAttribPointer(loc_texture_coord, 2, GL_FLOAT, False, stride, offset)\n",
    "\n",
    "\n",
    "\n"
   ]
  },
  {
   "cell_type": "markdown",
   "metadata": {},
   "source": [
    "### Desenhando nossos modelos\n",
    "* Cada modelo tem um Model para posicioná-los no mundo.\n",
    "* É necessário saber qual a posição inicial e total de vértices de cada modelo\n",
    "* É necessário indicar qual o ID da textura do modelo\n"
   ]
  },
  {
   "cell_type": "markdown",
   "metadata": {},
   "source": [
    "## Terreno"
   ]
  },
  {
   "cell_type": "code",
   "execution_count": 29,
   "metadata": {
    "ExecuteTime": {
     "end_time": "2020-06-07T16:33:23.351246Z",
     "start_time": "2020-06-07T16:33:23.346179Z"
    }
   },
   "outputs": [],
   "source": [
    "def desenha_chao(t_x=0.0,t_y=0.0,t_z=0.0):\n",
    "    angle = 90.0;\n",
    "    r_x = 0.0; r_y = 1.0; r_z = 0.0;\n",
    "    t_x=0.0;t_y=0.0;t_z=0.0;\n",
    "    s_x = 1.0; s_y = 1.0; s_z = 1.0;\n",
    "    mat_model = model(angle, r_x, r_y, r_z, t_x, t_y, t_z, s_x, s_y, s_z)\n",
    "    loc_model = glGetUniformLocation(program, \"model\")\n",
    "    glUniformMatrix4fv(loc_model, 1, GL_TRUE, mat_model)\n",
    "       \n",
    "    #define id da textura do modelo\n",
    "    glBindTexture(GL_TEXTURE_2D, 0)\n",
    "    glDrawArrays(GL_TRIANGLES, 0, 132) ## renderizando\n",
    "    glBindTexture(GL_TEXTURE_2D, 1)\n",
    "    glDrawArrays(GL_TRIANGLES, 132, 156-132) ## renderizando"
   ]
  },
  {
   "cell_type": "markdown",
   "metadata": {},
   "source": [
    "## Céu"
   ]
  },
  {
   "cell_type": "code",
   "execution_count": 30,
   "metadata": {
    "ExecuteTime": {
     "end_time": "2020-06-07T16:33:23.360175Z",
     "start_time": "2020-06-07T16:33:23.352809Z"
    }
   },
   "outputs": [],
   "source": [
    "def desenha_skybox(angle=0.0):\n",
    "    r_x = 0.0; r_y = 0.0; r_z = 1.0;\n",
    "    t_x = 0.0; t_y = -10.1; t_z = 0.0;\n",
    "    s_x = 5.0; s_y = 5.0; s_z = 5.0;\n",
    "    mat_model = model(angle, r_x, r_y, r_z, t_x, t_y, t_z, s_x, s_y, s_z)\n",
    "    loc_model = glGetUniformLocation(program, \"model\")\n",
    "    glUniformMatrix4fv(loc_model, 1, GL_TRUE, mat_model)\n",
    "    glBindTexture(GL_TEXTURE_2D, 2)#text. ceu\n",
    "    glDrawArrays(GL_TRIANGLES, 156, 34716-156) ## renderizando"
   ]
  },
  {
   "cell_type": "markdown",
   "metadata": {},
   "source": [
    "## Casa"
   ]
  },
  {
   "cell_type": "code",
   "execution_count": 31,
   "metadata": {
    "ExecuteTime": {
     "end_time": "2020-06-07T16:33:23.367786Z",
     "start_time": "2020-06-07T16:33:23.361284Z"
    }
   },
   "outputs": [],
   "source": [
    "def desenha_casa():\n",
    "    angle = 270.0;\n",
    "    r_x = 0.0; r_y = 1.0; r_z = 0.0;\n",
    "    t_x = -18.0; t_y = 0.0; t_z = 0.0;\n",
    "    s_x = 2.0; s_y = 2.0; s_z = 2.0;\n",
    "    mat_model = model(angle, r_x, r_y, r_z, t_x, t_y, t_z, s_x, s_y, s_z)\n",
    "    loc_model = glGetUniformLocation(program, \"model\")\n",
    "    glUniformMatrix4fv(loc_model, 1, GL_TRUE, mat_model)\n",
    "    glBindTexture(GL_TEXTURE_2D, 3)#textura casa\n",
    "    glDrawArrays(GL_TRIANGLES, 34716, 47493-34716)\n",
    "    glBindTexture(GL_TEXTURE_2D, 4)#textura chao casa\n",
    "    glDrawArrays(GL_TRIANGLES, 47493, 47511-47493)"
   ]
  },
  {
   "cell_type": "markdown",
   "metadata": {},
   "source": [
    "## Sofá"
   ]
  },
  {
   "cell_type": "code",
   "execution_count": 32,
   "metadata": {
    "ExecuteTime": {
     "end_time": "2020-06-07T16:33:23.375077Z",
     "start_time": "2020-06-07T16:33:23.369098Z"
    }
   },
   "outputs": [],
   "source": [
    "def desenha_sofa(t_x=0.0,t_y=0.0,t_z=0.0):\n",
    "    angle = 180.0;\n",
    "    r_x = 0.0; r_y = 1.0; r_z = 0.0;\n",
    "    #t_x = 5.0; t_y = 1.0; t_z = 3.0;\n",
    "    s_x = 2.5; s_y = 2.5; s_z = 2.5;\n",
    "    mat_model = model(angle, r_x, r_y, r_z, t_x, t_y, t_z, s_x, s_y, s_z)\n",
    "    loc_model = glGetUniformLocation(program, \"model\")\n",
    "    glUniformMatrix4fv(loc_model, 1, GL_TRUE, mat_model)\n",
    "    glBindTexture(GL_TEXTURE_2D, 5)\n",
    "    glDrawArrays(GL_TRIANGLES, 47511, 97443-47511) ## renderizando"
   ]
  },
  {
   "cell_type": "markdown",
   "metadata": {},
   "source": [
    "## Escrivaninha"
   ]
  },
  {
   "cell_type": "code",
   "execution_count": 33,
   "metadata": {
    "ExecuteTime": {
     "end_time": "2020-06-07T16:33:23.384448Z",
     "start_time": "2020-06-07T16:33:23.376093Z"
    }
   },
   "outputs": [],
   "source": [
    "def desenha_escrivaninha(t_x=-23.0,t_y=2.0,t_z=-9.5):\n",
    "    angle = 270.0;\n",
    "    r_x = 0.0; r_y = 1.0; r_z = 0.0;\n",
    "    #t_x = 5.0; t_y = 1.0; t_z = 3.0;\n",
    "    s_x = 0.5; s_y = 0.5; s_z = 0.5;\n",
    "    mat_model = model(angle, r_x, r_y, r_z, t_x, t_y, t_z, s_x, s_y, s_z)\n",
    "    loc_model = glGetUniformLocation(program, \"model\")\n",
    "    glUniformMatrix4fv(loc_model, 1, GL_TRUE, mat_model)\n",
    "    glBindTexture(GL_TEXTURE_2D, 6)#text. madeira escrivaninha\n",
    "    glDrawArrays(GL_TRIANGLES, 97443, 97935-97443)\n",
    "    glBindTexture(GL_TEXTURE_2D, 7)#text. puxador das gavetas\n",
    "    glDrawArrays(GL_TRIANGLES, 97935, 98499-97935)"
   ]
  },
  {
   "cell_type": "markdown",
   "metadata": {},
   "source": [
    "## Televisão"
   ]
  },
  {
   "cell_type": "code",
   "execution_count": 34,
   "metadata": {
    "ExecuteTime": {
     "end_time": "2020-06-07T16:33:23.391688Z",
     "start_time": "2020-06-07T16:33:23.385497Z"
    }
   },
   "outputs": [],
   "source": [
    "def desenha_televisao(t_x=-15.0,t_y=2.0,t_z=-10.5):\n",
    "    angle = 270.0;\n",
    "    r_x = 0.0; r_y = 1.0; r_z = 0.0;\n",
    "    #t_x = 5.0; t_y = 1.0; t_z = 3.0;\n",
    "    s_x = 0.5; s_y = 0.5; s_z = 0.5;\n",
    "    mat_model = model(angle, r_x, r_y, r_z, t_x, t_y, t_z, s_x, s_y, s_z)\n",
    "    loc_model = glGetUniformLocation(program, \"model\")\n",
    "    glUniformMatrix4fv(loc_model, 1, GL_TRUE, mat_model)\n",
    "    glBindTexture(GL_TEXTURE_2D, 8)#text. preta da televisão\n",
    "    glDrawArrays(GL_TRIANGLES, 98499, 104091-98499)\n",
    "    glBindTexture(GL_TEXTURE_2D, 9)# william bonner\n",
    "    glDrawArrays(GL_TRIANGLES, 104091, 104103-104091)"
   ]
  },
  {
   "cell_type": "markdown",
   "metadata": {},
   "source": [
    "## Carro"
   ]
  },
  {
   "cell_type": "code",
   "execution_count": 35,
   "metadata": {
    "ExecuteTime": {
     "end_time": "2020-06-07T16:33:23.399312Z",
     "start_time": "2020-06-07T16:33:23.392825Z"
    }
   },
   "outputs": [],
   "source": [
    "def desenha_carro1(t_x=0.0,t_y=0.0,t_z=0.0):\n",
    "    angle = 90.0;\n",
    "    r_x = 0.0; r_y = 1.0; r_z = 0.0;\n",
    "    #t_x = 5.0; t_y = 1.0; t_z = 3.0;\n",
    "    s_x = 1.5; s_y = 1.5; s_z = 1.5;\n",
    "    mat_model = model(angle, r_x, r_y, r_z, t_x, t_y, t_z, s_x, s_y, s_z)\n",
    "    loc_model = glGetUniformLocation(program, \"model\")\n",
    "    glUniformMatrix4fv(loc_model, 1, GL_TRUE, mat_model)\n",
    "    glBindTexture(GL_TEXTURE_2D, 10)\n",
    "    glDrawArrays(GL_TRIANGLES, 104103, 115497-104103) ## renderizando"
   ]
  },
  {
   "cell_type": "markdown",
   "metadata": {},
   "source": [
    "## Carro de Polícia"
   ]
  },
  {
   "cell_type": "code",
   "execution_count": 36,
   "metadata": {
    "ExecuteTime": {
     "end_time": "2020-06-07T16:33:23.408581Z",
     "start_time": "2020-06-07T16:33:23.400559Z"
    }
   },
   "outputs": [],
   "source": [
    "def desenha_carro2(t_x=0.0,t_y=0.0,t_z=0.0):\n",
    "    angle = 90.0;\n",
    "    r_x = 0.0; r_y = 1.0; r_z = 0.0;\n",
    "    #t_x = 5.0; t_y = 1.0; t_z = 3.0;\n",
    "    s_x = 1.5; s_y = 1.5; s_z = 1.5;\n",
    "    mat_model = model(angle, r_x, r_y, r_z, t_x, t_y, t_z, s_x, s_y, s_z)\n",
    "    loc_model = glGetUniformLocation(program, \"model\")\n",
    "    glUniformMatrix4fv(loc_model, 1, GL_TRUE, mat_model)\n",
    "    glBindTexture(GL_TEXTURE_2D, 11)\n",
    "    glDrawArrays(GL_TRIANGLES, 115497, 131229-115497) ## renderizando"
   ]
  },
  {
   "cell_type": "markdown",
   "metadata": {},
   "source": [
    "## Árvore"
   ]
  },
  {
   "cell_type": "code",
   "execution_count": 37,
   "metadata": {
    "ExecuteTime": {
     "end_time": "2020-06-07T16:33:23.419460Z",
     "start_time": "2020-06-07T16:33:23.409637Z"
    }
   },
   "outputs": [],
   "source": [
    "def desenha_arvore():\n",
    "    angle = 0.0;\n",
    "    r_x = 0.0; r_y = 0.0; r_z = 1.0;\n",
    "    t_x = -20.0; t_y = -1.0; t_z = -40.0;\n",
    "    s_x = 7.0; s_y = 7.0; s_z = 7.0;\n",
    "    mat_model = model(angle, r_x, r_y, r_z, t_x, t_y, t_z, s_x, s_y, s_z)\n",
    "    loc_model = glGetUniformLocation(program, \"model\")\n",
    "    glUniformMatrix4fv(loc_model, 1, GL_TRUE, mat_model)\n",
    "    glBindTexture(GL_TEXTURE_2D, 12)#text. tronco\n",
    "    glDrawArrays(GL_TRIANGLES, 131229, 151491-131229) ## renderizando\n",
    "    glBindTexture(GL_TEXTURE_2D, 13)#text. folhas\n",
    "    glDrawArrays(GL_TRIANGLES, 151491, 172401-151491) ## renderizando"
   ]
  },
  {
   "cell_type": "markdown",
   "metadata": {},
   "source": [
    "## Fogueira e Barraca"
   ]
  },
  {
   "cell_type": "code",
   "execution_count": 38,
   "metadata": {
    "ExecuteTime": {
     "end_time": "2020-06-07T16:33:23.426821Z",
     "start_time": "2020-06-07T16:33:23.420500Z"
    }
   },
   "outputs": [],
   "source": [
    "def desenha_fogueira():\n",
    "    angle = 45.0;\n",
    "    r_x = 0.0; r_y = 1.0; r_z = 0.0;\n",
    "    t_x = -20.0; t_y = 0.2; t_z = 50.0;\n",
    "    s_x = 0.2; s_y = 0.2; s_z = 0.2;\n",
    "    mat_model = model(angle, r_x, r_y, r_z, t_x, t_y, t_z, s_x, s_y, s_z)\n",
    "    loc_model = glGetUniformLocation(program, \"model\")\n",
    "    glUniformMatrix4fv(loc_model, 1, GL_TRUE, mat_model)\n",
    "    glBindTexture(GL_TEXTURE_2D, 14)#text. tronco\n",
    "    glDrawArrays(GL_TRIANGLES, 172401, 180039-172401) ## renderizando\n",
    "    glBindTexture(GL_TEXTURE_2D, 15)#text. folhas\n",
    "    glDrawArrays(GL_TRIANGLES, 180039, 186747-180039) ## renderizando\n",
    "    glBindTexture(GL_TEXTURE_2D, 16)#text. tronco\n",
    "    glDrawArrays(GL_TRIANGLES, 186747, 192303-186747) ## renderizando\n",
    "    glBindTexture(GL_TEXTURE_2D, 17)#text. folhas\n",
    "    glDrawArrays(GL_TRIANGLES, 192303, 205347-192303) ## renderizando"
   ]
  },
  {
   "cell_type": "markdown",
   "metadata": {},
   "source": [
    "## Chão \"Infinito\""
   ]
  },
  {
   "cell_type": "code",
   "execution_count": 39,
   "metadata": {
    "ExecuteTime": {
     "end_time": "2020-06-07T16:33:23.435803Z",
     "start_time": "2020-06-07T16:33:23.427769Z"
    }
   },
   "outputs": [],
   "source": [
    "def desenha_chao_infinito():\n",
    "    angle = 0.0;\n",
    "    r_x = 0.0; r_y = 1.0; r_z = 0.0;\n",
    "    t_x = 0.0; t_y = -10.0; t_z = 0.0;\n",
    "    s_x = 1.0; s_y = 1.0; s_z = 1.0;\n",
    "    mat_model = model(angle, r_x, r_y, r_z, t_x, t_y, t_z, s_x, s_y, s_z)\n",
    "    loc_model = glGetUniformLocation(program, \"model\")\n",
    "    glUniformMatrix4fv(loc_model, 1, GL_TRUE, mat_model)\n",
    "    glBindTexture(GL_TEXTURE_2D, 18)#text. grama\n",
    "    glDrawArrays(GL_TRIANGLES, 205347, 205383-205347) ## renderizando"
   ]
  },
  {
   "cell_type": "markdown",
   "metadata": {},
   "source": [
    "## Poço"
   ]
  },
  {
   "cell_type": "code",
   "execution_count": 40,
   "metadata": {
    "ExecuteTime": {
     "end_time": "2020-06-07T16:33:23.443645Z",
     "start_time": "2020-06-07T16:33:23.437136Z"
    }
   },
   "outputs": [],
   "source": [
    "def desenha_poco():\n",
    "    angle = 0.0;\n",
    "    r_x = 0.0; r_y = 1.0; r_z = 0.0;\n",
    "    t_x = 30.0; t_y = -0.3; t_z = 20.0;\n",
    "    s_x = 0.3; s_y = 0.3; s_z = 0.3;\n",
    "    mat_model = model(angle, r_x, r_y, r_z, t_x, t_y, t_z, s_x, s_y, s_z)\n",
    "    loc_model = glGetUniformLocation(program, \"model\")\n",
    "    glUniformMatrix4fv(loc_model, 1, GL_TRUE, mat_model)\n",
    "    glBindTexture(GL_TEXTURE_2D, 19)#text. grama\n",
    "    glDrawArrays(GL_TRIANGLES, 205383, 208857-205383) ## renderizando\n",
    "    glBindTexture(GL_TEXTURE_2D, 20)#text. grama\n",
    "    glDrawArrays(GL_TRIANGLES, 208857, 210681-208857) ## renderizando\n",
    "    glBindTexture(GL_TEXTURE_2D, 21)#text. grama\n",
    "    glDrawArrays(GL_TRIANGLES, 210681, 211161-210681) ## renderizando"
   ]
  },
  {
   "cell_type": "markdown",
   "metadata": {},
   "source": [
    "### Eventos para modificar a posição da câmera.\n",
    "\n",
    "* Usei as teclas A, S, D e W para movimentação no espaço tridimensional\n",
    "* Usei a posição do mouse para \"direcionar\" a câmera"
   ]
  },
  {
   "cell_type": "code",
   "execution_count": 41,
   "metadata": {
    "ExecuteTime": {
     "end_time": "2020-06-07T16:33:23.455667Z",
     "start_time": "2020-06-07T16:33:23.444785Z"
    }
   },
   "outputs": [],
   "source": [
    "cameraPos   = glm.vec3(0.0,  4.0,  1.0);\n",
    "cameraFront = glm.vec3(0.0,  0.0, -1.0);\n",
    "cameraUp    = glm.vec3(0.0,  1.0,  0.0);\n",
    "\n",
    "\n",
    "polygonal_mode = False\n",
    "\n",
    "def key_event(window,key,scancode,action,mods):\n",
    "    global cameraPos, cameraFront, cameraUp, polygonal_mode\n",
    "    cameraSpeed = 0.8\n",
    "    if key == 87 and (action==1 or action==2): # tecla W\n",
    "        cameraPos += cameraSpeed * cameraFront\n",
    "    if key == 83 and (action==1 or action==2): # tecla S\n",
    "        cameraPos -= cameraSpeed * cameraFront\n",
    "    if key == 65 and (action==1 or action==2): # tecla A\n",
    "        cameraPos -= glm.normalize(glm.cross(cameraFront, cameraUp)) * cameraSpeed\n",
    "    if key == 68 and (action==1 or action==2): # tecla D\n",
    "        cameraPos += glm.normalize(glm.cross(cameraFront, cameraUp)) * cameraSpeed\n",
    "    if key == 32 and (action==1 or action==2): # tecla espaço\n",
    "        cameraPos += cameraSpeed * cameraUp\n",
    "    if key == 90 and (action==1 or action==2): # tecla S\n",
    "        cameraPos -= cameraSpeed * cameraUp\n",
    "    if key == 80 and action==1 and polygonal_mode==True:\n",
    "        polygonal_mode=False\n",
    "    else:\n",
    "        if key == 80 and action==1 and polygonal_mode==False:\n",
    "            polygonal_mode=True\n",
    "        \n",
    "firstMouse = True\n",
    "yaw = -90.0 \n",
    "pitch = 0.0\n",
    "lastX =  largura/2\n",
    "lastY =  altura/2\n",
    "\n",
    "def mouse_event(window, xpos, ypos):\n",
    "    global firstMouse, cameraFront, yaw, pitch, lastX, lastY\n",
    "    if firstMouse:\n",
    "        lastX = xpos\n",
    "        lastY = ypos\n",
    "        firstMouse = False\n",
    "\n",
    "    xoffset = xpos - lastX\n",
    "    yoffset = lastY - ypos\n",
    "    lastX = xpos\n",
    "    lastY = ypos\n",
    "    sensitivity = 0.3 \n",
    "    xoffset *= sensitivity\n",
    "    yoffset *= sensitivity\n",
    "\n",
    "    yaw += xoffset;\n",
    "    pitch += yoffset;\n",
    "    if pitch >= 90.0: pitch = 90.0\n",
    "    if pitch <= -90.0: pitch = -90.0\n",
    "    front = glm.vec3()\n",
    "    front.x = math.cos(glm.radians(yaw)) * math.cos(glm.radians(pitch))\n",
    "    front.y = math.sin(glm.radians(pitch))\n",
    "    front.z = math.sin(glm.radians(yaw)) * math.cos(glm.radians(pitch))\n",
    "    cameraFront = glm.normalize(front)\n",
    "    \n",
    "glfw.set_key_callback(window,key_event)\n",
    "glfw.set_cursor_pos_callback(window, mouse_event)"
   ]
  },
  {
   "cell_type": "markdown",
   "metadata": {},
   "source": [
    "### Matrizes Model, View e Projection\n",
    "\n",
    "Teremos uma aula específica para entender o seu funcionamento."
   ]
  },
  {
   "cell_type": "code",
   "execution_count": 42,
   "metadata": {
    "ExecuteTime": {
     "end_time": "2020-06-07T16:33:23.465054Z",
     "start_time": "2020-06-07T16:33:23.457154Z"
    }
   },
   "outputs": [],
   "source": [
    "def model(angle, r_x, r_y, r_z, t_x, t_y, t_z, s_x, s_y, s_z):\n",
    "    angle = math.radians(angle)\n",
    "    matrix_transform = glm.mat4(1.0) # instanciando uma matriz identidade\n",
    "    # aplicando translacao\n",
    "    matrix_transform = glm.translate(matrix_transform, glm.vec3(t_x, t_y, t_z)) \n",
    "    # aplicando rotacao\n",
    "    matrix_transform = glm.rotate(matrix_transform, angle, glm.vec3(r_x, r_y, r_z))\n",
    "    # aplicando escala\n",
    "    matrix_transform = glm.scale(matrix_transform, glm.vec3(s_x, s_y, s_z)) \n",
    "    matrix_transform = np.array(matrix_transform).T # pegando a transposta da matriz (glm trabalha com ela invertida)\n",
    "    return matrix_transform\n",
    "\n",
    "def view():\n",
    "    global cameraPos, cameraFront, cameraUp\n",
    "    mat_view = glm.lookAt(cameraPos, cameraPos + cameraFront, cameraUp);\n",
    "    mat_view = np.array(mat_view)\n",
    "    return mat_view\n",
    "\n",
    "def projection():\n",
    "    global altura, largura\n",
    "    # perspective parameters: fovy, aspect, near, far\n",
    "    mat_projection = glm.perspective(glm.radians(90.0), largura/altura, 0.1, 1000.0)\n",
    "    mat_projection = np.array(mat_projection)    \n",
    "    return mat_projection"
   ]
  },
  {
   "cell_type": "markdown",
   "metadata": {},
   "source": [
    "### Nesse momento, nós exibimos a janela!\n"
   ]
  },
  {
   "cell_type": "code",
   "execution_count": 43,
   "metadata": {
    "ExecuteTime": {
     "end_time": "2020-06-07T16:33:23.472336Z",
     "start_time": "2020-06-07T16:33:23.466172Z"
    }
   },
   "outputs": [],
   "source": [
    "glfw.show_window(window)\n",
    "glfw.set_cursor_pos(window, lastX, lastY)"
   ]
  },
  {
   "cell_type": "markdown",
   "metadata": {},
   "source": [
    "### Loop principal da janela.\n",
    "Enquanto a janela não for fechada, esse laço será executado. É neste espaço que trabalhamos com algumas interações com a OpenGL."
   ]
  },
  {
   "cell_type": "code",
   "execution_count": 44,
   "metadata": {
    "ExecuteTime": {
     "end_time": "2020-06-07T16:34:55.093316Z",
     "start_time": "2020-06-07T16:33:23.473370Z"
    }
   },
   "outputs": [
    {
     "name": "stdout",
     "output_type": "stream",
     "text": [
      "-25.95245361328125 488.8380126953125 28.775617599487305\n"
     ]
    }
   ],
   "source": [
    "glEnable(GL_DEPTH_TEST) ### importante para 3D\n",
    "\n",
    "z_carro1 = 30\n",
    "z_carro2 = 0\n",
    "\n",
    "while not glfw.window_should_close(window):\n",
    "    glfw.poll_events() \n",
    "    \n",
    "    glClear(GL_COLOR_BUFFER_BIT | GL_DEPTH_BUFFER_BIT)\n",
    "    \n",
    "    glClearColor(1.0, 1.0, 1.0, 1.0)\n",
    "    \n",
    "    #controla e aplica o estado do modo poligonal\n",
    "    if polygonal_mode==True:\n",
    "        glPolygonMode(GL_FRONT_AND_BACK,GL_LINE)\n",
    "    if polygonal_mode==False:\n",
    "        glPolygonMode(GL_FRONT_AND_BACK,GL_FILL)\n",
    "    \n",
    "    #verificação pra câmera não sair do cenário\n",
    "    if(abs(cameraPos[0])>40):\n",
    "        cameraPos[0] = 40*cameraPos[0]/abs(cameraPos[0])\n",
    "    if(abs(cameraPos[2])>80):\n",
    "        cameraPos[2] = 80*cameraPos[2]/abs(cameraPos[2])\n",
    "    \n",
    "    #verificação pra câmera não passar do chão\n",
    "    if(cameraPos[1] < 4.0):\n",
    "        cameraPos[1] = 4.0\n",
    "    \n",
    "    #verificação pra câmera não sair da esfera que forma o céu\n",
    "    x = cameraPos[0]\n",
    "    y = cameraPos[1]\n",
    "    z = cameraPos[2]\n",
    "    if((x/500)**2+((y+10)/500)**2+(z/500)**2 > 1):\n",
    "        cameraPos = glm.vec3(0.0,  4.0,  1.0);\n",
    "\n",
    "    #movimentação dos carros\n",
    "    z_carro1 += 40/60.0\n",
    "    if(z_carro1 > 80):\n",
    "        z_carro1 = -80\n",
    "    z_carro2 += 40/60.0\n",
    "    if(z_carro2 > 80):\n",
    "        z_carro2 = -80\n",
    "\n",
    "    #desenhando todos os objetos do cenário:\n",
    "    #algumas funções de desenho estão com argumentos para facilitar ajustes\n",
    "    desenha_chao_infinito()\n",
    "    desenha_chao()\n",
    "    desenha_casa()\n",
    "    desenha_arvore()\n",
    "    desenha_skybox()\n",
    "    desenha_escrivaninha(-23.0,2.0,-8.8)\n",
    "    desenha_sofa(-16,2,10)\n",
    "    desenha_televisao()\n",
    "    desenha_carro1(3,0.1,z_carro1)\n",
    "    desenha_carro2(3,0.1,z_carro2)\n",
    "    desenha_fogueira()\n",
    "    desenha_poco()\n",
    "\n",
    "    \n",
    "    mat_view = view()\n",
    "    loc_view = glGetUniformLocation(program, \"view\")\n",
    "    glUniformMatrix4fv(loc_view, 1, GL_FALSE, mat_view)\n",
    "\n",
    "    mat_projection = projection()\n",
    "    loc_projection = glGetUniformLocation(program, \"projection\")\n",
    "    glUniformMatrix4fv(loc_projection, 1, GL_FALSE, mat_projection)    \n",
    "    \n",
    "    glfw.swap_buffers(window)\n",
    "\n",
    "glfw.terminate()"
   ]
  }
 ],
 "metadata": {
  "finalized": {
   "timestamp": 1589232864147,
   "trusted": true
  },
  "kernelspec": {
   "display_name": "Python 3",
   "language": "python",
   "name": "python3"
  },
  "language_info": {
   "codemirror_mode": {
    "name": "ipython",
    "version": 3
   },
   "file_extension": ".py",
   "mimetype": "text/x-python",
   "name": "python",
   "nbconvert_exporter": "python",
   "pygments_lexer": "ipython3",
   "version": "3.7.6"
  }
 },
 "nbformat": 4,
 "nbformat_minor": 2
}
